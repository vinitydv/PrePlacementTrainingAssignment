{
  "metadata": {
    "kernelspec": {
      "name": "python",
      "display_name": "Python (Pyodide)",
      "language": "python"
    },
    "language_info": {
      "codemirror_mode": {
        "name": "python",
        "version": 3
      },
      "file_extension": ".py",
      "mimetype": "text/x-python",
      "name": "python",
      "nbconvert_exporter": "python",
      "pygments_lexer": "ipython3",
      "version": "3.8"
    }
  },
  "nbformat_minor": 5,
  "nbformat": 4,
  "cells": [
    {
      "cell_type": "markdown",
      "source": "17. Write a function that takes a list of numbers as input and returns a new list containing only the even numbers from the input list. Use list comprehension to solve this problem.\n\nExample:\n\nInput: [1, 2, 3, 4, 5, 6, 7, 8, 9, 10]\n\nOutput: [2, 4, 6, 8, 10]",
      "metadata": {},
      "id": "92102c55-badf-48c8-afe0-c75de34de699"
    },
    {
      "cell_type": "code",
      "source": "numbers=[1, 2, 3, 4, 5, 6, 7, 8, 9, 10]\ndef get_even_number(numbers):\n    return [num for num in numbers if num%2==0]\neven_number=get_even_number(numbers)\nprint(even_number)",
      "metadata": {
        "trusted": true
      },
      "execution_count": 3,
      "outputs": [
        {
          "name": "stdout",
          "text": "[2, 4, 6, 8, 10]\n",
          "output_type": "stream"
        }
      ],
      "id": "921a0bd2-c90f-4454-a272-aff75063ebe2"
    },
    {
      "cell_type": "markdown",
      "source": "18. Implement a decorator function called ‘timer’ that measures the execution time of a function. The ‘timer’ decorator should print the time taken by the decorated function to execute. Use the ‘time’ module in Python to calculate the execution time.\n\nExample:\n\nimport time\n\n@timer\n\ndef my_function():\n\n    # Function code goes here\n    \n    time.sleep(2)\n    \n\nmy_function()\n\nOutput:\n\"Execution time: 2.00123 seconds\"",
      "metadata": {},
      "id": "3376315c-fb0b-4a65-b008-145473d4084b"
    },
    {
      "cell_type": "code",
      "source": "import time \ndef timer(func):\n    def wrapper(*args,**kwargs):\n        start_time=time.time()\n        result=func(*args,**kwargs)\n        end_time=time.time()\n        execution_time=end_time-start_time\n        print(f\"Execution time: {execution_time:.5f} seconds\")\n        return result\n    return wrapper\n@timer\ndef my_function():\n    time.sleep(2)\nmy_function()",
      "metadata": {
        "trusted": true
      },
      "execution_count": 7,
      "outputs": [
        {
          "name": "stdout",
          "text": "Execution time: 2.00000 seconds\n",
          "output_type": "stream"
        }
      ],
      "id": "483c3ccc-24da-42b5-b9ad-56cce0ec9424"
    },
    {
      "cell_type": "markdown",
      "source": "19. Write a function called ‘calculate_mean’ that takes a list of numbers as input and returns the mean (average) of the numbers. The function should calculate the mean using the sum of the numbers divided by the total count.\n",
      "metadata": {},
      "id": "06bb6fed-bfe4-4f57-81e6-628754fe5bf1"
    },
    {
      "cell_type": "code",
      "source": "def calculate_mean(numbers):\n\n    total = sum(numbers)\n    \n    count = len(numbers)\n    \n    mean = total / count\n    \n    return mean\n\ndata = [10, 15, 20, 25, 30]\n\nmean_value = calculate_mean(data)\n\nprint(\"Mean:\", mean_value)\n",
      "metadata": {
        "trusted": true
      },
      "execution_count": 10,
      "outputs": [
        {
          "name": "stdout",
          "text": "Mean: 20.0\n",
          "output_type": "stream"
        }
      ],
      "id": "a04b93b6-b299-451c-ac5d-a09941c0beee"
    },
    {
      "cell_type": "markdown",
      "source": "20. Write a function called ‘perform_hypothesis_test’ that takes two lists of numbers as input, representing two samples. The function should perform a two-sample t-test and return the p-value. Use the ‘scipy.stats’ module in Python to calculate the t-test and p-value.\n\n",
      "metadata": {},
      "id": "eae7637c-77ee-4144-9001-3b545da4e31a"
    },
    {
      "cell_type": "code",
      "source": "\n\nfrom scipy import stats\n\ndef perform_hypothesis_test(sample1, sample2):\n    t_statistic, p_value = stats.ttest_ind(sample1, sample2)\n    return p_value\n\nsample1 = [5, 10, 15, 20, 25]\nsample2 = [10, 20, 30, 40, 50]\np_value = perform_hypothesis_test(sample1, sample2)\nprint(\"P-value:\", p_value)\n\n",
      "metadata": {
        "trusted": true
      },
      "execution_count": 12,
      "outputs": [
        {
          "name": "stdout",
          "text": "P-value: 0.09434977284243756\n",
          "output_type": "stream"
        }
      ],
      "id": "83727eed-fa26-492b-90b3-786b17323829"
    },
    {
      "cell_type": "code",
      "source": "",
      "metadata": {},
      "execution_count": null,
      "outputs": [],
      "id": "a6426fa0-5a76-4355-baf5-95578223998b"
    }
  ]
}