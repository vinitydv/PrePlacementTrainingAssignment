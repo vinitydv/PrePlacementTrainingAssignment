{
  "metadata": {
    "kernelspec": {
      "name": "python",
      "display_name": "Python (Pyodide)",
      "language": "python"
    },
    "language_info": {
      "codemirror_mode": {
        "name": "python",
        "version": 3
      },
      "file_extension": ".py",
      "mimetype": "text/x-python",
      "name": "python",
      "nbconvert_exporter": "python",
      "pygments_lexer": "ipython3",
      "version": "3.8"
    }
  },
  "nbformat_minor": 5,
  "nbformat": 4,
  "cells": [
    {
      "cell_type": "markdown",
      "source": "1. Scenario: A company wants to analyze the sales performance of its products in different regions. They have collected the following data:\n   \n   Region A: [10, 15, 12, 8, 14]\n   \n   Region B: [18, 20, 16, 22, 25]\n   \n   Calculate the mean sales for each region\n",
      "metadata": {},
      "id": "00f29ea6-000b-4471-bab3-1c42129ee7fc"
    },
    {
      "cell_type": "code",
      "source": "def calculate_mean_sales(region_sales):\n    total_sales = sum(region_sales)\n    num_sales = len(region_sales)\n    mean_sales = total_sales / num_sales\n    return mean_sales\n\n# Sales data for each region\nregion_a_sales = [10, 15, 12, 8, 14]\nregion_b_sales = [18, 20, 16, 22, 25]\n\n# Calculate the mean sales for each region\nmean_sales_region_a = calculate_mean_sales(region_a_sales)\nmean_sales_region_b = calculate_mean_sales(region_b_sales)\n\n# Print the results\nprint(\"Mean sales for Region A:\", mean_sales_region_a)\nprint(\"Mean sales for Region B:\", mean_sales_region_b)\n",
      "metadata": {
        "trusted": true
      },
      "execution_count": 1,
      "outputs": [
        {
          "name": "stdout",
          "text": "Mean sales for Region A: 11.8\nMean sales for Region B: 20.2\n",
          "output_type": "stream"
        }
      ],
      "id": "310383a6-34dc-4ec0-a10d-e98bd3da4f55"
    },
    {
      "cell_type": "markdown",
      "source": "2. Scenario: A survey is conducted to measure customer satisfaction on a scale of 1 to 5. The data collected is as follows:\n   \n   [4, 5, 2, 3, 5, 4, 3, 2, 4, 5]\n   \n   Calculate the mode of the survey responses.\n",
      "metadata": {},
      "id": "b2828963-5abb-437c-8205-227a8e1ef702"
    },
    {
      "cell_type": "code",
      "source": "from collections import Counter\n\ndef calculate_mode(data):\n    counter = Counter(data)\n    mode = counter.most_common(1)[0][0]\n    return mode\n\n# Survey responses\nsurvey_responses = [4, 5, 2, 3, 5, 4, 3, 2, 4, 5]\n\n# Calculate the mode of the survey responses\nmode = calculate_mode(survey_responses)\n\n# Print the result\nprint(\"Mode of the survey responses:\", mode)\n",
      "metadata": {
        "trusted": true
      },
      "execution_count": 2,
      "outputs": [
        {
          "name": "stdout",
          "text": "Mode of the survey responses: 4\n",
          "output_type": "stream"
        }
      ],
      "id": "7b90b9b1-fd7e-4da2-9d43-782087511e90"
    },
    {
      "cell_type": "markdown",
      "source": "3. Scenario: A company wants to compare the salaries of two departments. The salary data for Department A and Department B are as follows:\n   \n   Department A: [5000, 6000, 5500, 7000]\n   \n   Department B: [4500, 5500, 5800, 6000, 5200]\n   \n   Calculate the median salary for each department.\n",
      "metadata": {},
      "id": "e537272d-e906-4a16-93d3-a9aefb171328"
    },
    {
      "cell_type": "code",
      "source": "def calculate_median(salary_data):\n    sorted_data = sorted(salary_data)\n    num_salaries = len(sorted_data)\n\n    if num_salaries % 2 == 0:\n        # If the number of salaries is even, calculate the average of the two middle values\n        middle_index_1 = num_salaries // 2 - 1\n        middle_index_2 = num_salaries // 2\n        median = (sorted_data[middle_index_1] + sorted_data[middle_index_2]) / 2\n    else:\n        # If the number of salaries is odd, the median is the middle value\n        middle_index = num_salaries // 2\n        median = sorted_data[middle_index]\n\n    return median\n\n# Salary data for each department\ndepartment_a_salaries = [5000, 6000, 5500, 7000]\ndepartment_b_salaries = [4500, 5500, 5800, 6000, 5200]\n\n# Calculate the median salary for each department\nmedian_salary_department_a = calculate_median(department_a_salaries)\nmedian_salary_department_b = calculate_median(department_b_salaries)\n\n# Print the results\nprint(\"Median salary for Department A:\", median_salary_department_a)\nprint(\"Median salary for Department B:\", median_salary_department_b)\n",
      "metadata": {
        "trusted": true
      },
      "execution_count": 3,
      "outputs": [
        {
          "name": "stdout",
          "text": "Median salary for Department A: 5750.0\nMedian salary for Department B: 5500\n",
          "output_type": "stream"
        }
      ],
      "id": "4391c29e-7c80-4bfe-8779-18643a3ba7d4"
    },
    {
      "cell_type": "markdown",
      "source": "4. Scenario: A data analyst wants to determine the variability in the daily stock prices of a company. The data collected is as follows:\n   \n   [25.5, 24.8, 26.1, 25.3, 24.9]\n   \n   Calculate the range of the stock prices.\n",
      "metadata": {},
      "id": "0134430d-0f0a-47b3-90bf-383072cf6251"
    },
    {
      "cell_type": "code",
      "source": "def calculate_range(stock_prices):\n    max_price = max(stock_prices)\n    min_price = min(stock_prices)\n    price_range = max_price - min_price\n    return price_range\n\n# Stock price data\nstock_prices = [25.5, 24.8, 26.1, 25.3, 24.9]\n\n# Calculate the range of the stock prices\nprice_range = calculate_range(stock_prices)\n\n# Print the result\nprint(\"Range of the stock prices:\", price_range)\n",
      "metadata": {
        "trusted": true
      },
      "execution_count": 4,
      "outputs": [
        {
          "name": "stdout",
          "text": "Range of the stock prices: 1.3000000000000007\n",
          "output_type": "stream"
        }
      ],
      "id": "dbef1724-8296-4c13-9dcd-0e44d6abb47c"
    },
    {
      "cell_type": "markdown",
      "source": "5. Scenario: A study is conducted to compare the performance of two different teaching methods. The test scores of the students in each group are as follows:\n   \n   Group A: [85, 90, 92, 88, 91]\n   \n   Group B: [82, 88, 90, 86, 87]\n   \n   Perform a t-test to determine if there is a significant difference in the mean scores between the two groups.\n",
      "metadata": {},
      "id": "9c402cf9-543d-42c3-8045-6ecdcb684803"
    },
    {
      "cell_type": "code",
      "source": "import scipy.stats as stats\n\ndef perform_t_test(groupA,gropuB):\n    t_stats,p_value=stats.ttest_ind(groupA,groupB)\n    return t_stats,p_value\ngroupA=[85, 90, 92, 88, 91]\ngroupB=[82, 88, 90, 86, 87]\nt_stats,p_value=perform_t_test(groupA,groupB)\nprint(\"T-statistic:\", t_stats)\nprint(\"P-value:\", p_value)",
      "metadata": {
        "trusted": true
      },
      "execution_count": 7,
      "outputs": [
        {
          "name": "stdout",
          "text": "T-statistic: 1.4312528946642733\nP-value: 0.19023970239078333\n",
          "output_type": "stream"
        }
      ],
      "id": "6b12a84a-94d3-4a9d-ad65-95cb5f82225f"
    },
    {
      "cell_type": "markdown",
      "source": "6. Scenario: A company wants to analyze the relationship between advertising expenditure and sales. The data collected is as follows:\n   \n   Advertising Expenditure (in thousands): [10, 15, 12, 8, 14]\n   \n   Sales (in thousands): [25, 30, 28, 20, 26]\n   \n   Calculate the correlation coefficient between advertising expenditure and sales.\n",
      "metadata": {},
      "id": "845c0eda-ba40-41af-bdae-d969d4068eb6"
    },
    {
      "cell_type": "code",
      "source": "import numpy as np\ndef corr_coeff(ae,sales):\n    correlation_coefficient=np.corrcoef(ae,sales)[0,1]\n    return correlation_coefficient\nae=[10,15,12,8,14]\nsales=[25,30,28,20,26]\ncorrelation_coefficient=corr_coeff(ae,sales)\nprint('Correlation coefficient:',correlation_coefficient)",
      "metadata": {
        "trusted": true
      },
      "execution_count": 8,
      "outputs": [
        {
          "name": "stdout",
          "text": "Correlation coefficient: 0.8757511375750133\n",
          "output_type": "stream"
        }
      ],
      "id": "f170f064-4288-433a-b973-f296148f4103"
    },
    {
      "cell_type": "markdown",
      "source": "7. Scenario: A survey is conducted to measure the heights of a group of people. The data collected is as follows:\n   \n   [160, 170, 165, 155, 175, 180, 170]\n   \n   Calculate the standard deviation of the heights.\n",
      "metadata": {},
      "id": "75432e5a-8a48-4649-8c69-6f3d462aebb8"
    },
    {
      "cell_type": "code",
      "source": "import numpy as np\n\ndef calculate_standard_deviation(heights):\n    mean_height = np.mean(heights)\n    squared_diffs = [(height - mean_height) ** 2 for height in heights]\n    variance = np.mean(squared_diffs)\n    std_deviation = np.sqrt(variance)\n    return std_deviation\n\n# Heights data\nheights = [160, 170, 165, 155, 175, 180, 170]\n\n# Calculate the standard deviation\nstandard_deviation = calculate_standard_deviation(heights)\n\n# Print the result\nprint(\"Standard deviation of heights:\", standard_deviation)\n",
      "metadata": {
        "trusted": true
      },
      "execution_count": 12,
      "outputs": [
        {
          "name": "stdout",
          "text": "Standard deviation of heights: 7.953949089757174\n",
          "output_type": "stream"
        }
      ],
      "id": "0fbc5655-ace2-410f-ac17-a21699657028"
    },
    {
      "cell_type": "markdown",
      "source": "8. Scenario: A company wants to analyze the relationship between employee tenure and job satisfaction. The data collected is as follows:\n   \n   Employee Tenure (in years): [2, 3, 5, 4, 6, 2, 4]\n   \n   Job Satisfaction (on a scale of 1 to 10): [7, 8, 6, 9, 5, 7, 6]\n   \n   Perform a linear regression analysis to predict job satisfaction based on employee tenure.\n",
      "metadata": {},
      "id": "70cfc912-ca24-4c5d-a542-c9623d2f3a5a"
    },
    {
      "cell_type": "code",
      "source": "import numpy as np\nfrom sklearn.linear_model import LinearRegression\n\ndef perform_linear_regression(employee_tenure,job_satisfaction):\n    X=np.array(employee_tenure).reshape(-1,1)\n    y=np.array(job_satisfaction)\n    \n    model=LinearRegression()\n    model.fit(X,y)\n    \n    slope=model.coef_[0]\n    intercept=model.intercept_\n    return slope,intercept\nemployee_tenure = [2, 3, 5, 4, 6, 2, 4]\njob_satisfaction = [7, 8, 6, 9, 5, 7, 6]\nslope,intercept=perform_linear_regression(employee_tenure,job_satisfaction)\nprint('slope(coefficient):',slope)\nprint('intercept:',intercept)",
      "metadata": {
        "trusted": true
      },
      "execution_count": 13,
      "outputs": [
        {
          "name": "stdout",
          "text": "slope(coefficient): -0.4680851063829786\nintercept: 8.595744680851062\n",
          "output_type": "stream"
        }
      ],
      "id": "e955c063-fcc5-4006-a6cc-bb9f23ac8375"
    },
    {
      "cell_type": "markdown",
      "source": "9. Scenario: A study is conducted to compare the effectiveness of two different medications. The recovery times of the patients in each group are as follows:\n   \n   Medication A: [10, 12, 14, 11, 13]\n   \n   Medication B: [15, 17, 16, 14, 18]\n   \n   Perform an analysis of variance (ANOVA) to determine if there is a significant difference in the mean recovery times between the two medications\n",
      "metadata": {},
      "id": "5c89d181-4d4a-49b3-a98e-7520522c44a9"
    },
    {
      "cell_type": "code",
      "source": "from scipy.stats import f_oneway\ndef perform_anova(MedicationA,MedicationB):\n    f_statistic,p_value=f_oneway(MedicationA,MedicationB)\n    return f_statistic,p_value\nMedicationA= [10, 12, 14, 11, 13]\n\nMedicationB= [15, 17, 16, 14, 18]\nf_statistic,p_value=perform_anova(MedicationA,MedicationB)\nprint(\"F-statistic:\", f_statistic)\nprint(\"P-value:\", p_value)",
      "metadata": {
        "trusted": true
      },
      "execution_count": 15,
      "outputs": [
        {
          "name": "stdout",
          "text": "F-statistic: 16.0\nP-value: 0.003949772803445326\n",
          "output_type": "stream"
        }
      ],
      "id": "a57dfd87-e8c9-4afb-89c0-501f4e4fa175"
    },
    {
      "cell_type": "markdown",
      "source": "10. Scenario: A company wants to analyze customer feedback ratings on a scale of 1 to 10. The data collected is as follows:\n   \n   [8, 9, 7, 6, 8, 10, 9, 8, 7, 8]\n   \n   Calculate the 75th percentile of the feedback ratings.\n",
      "metadata": {},
      "id": "539762a8-a544-4516-9912-9eea4b6a81a8"
    },
    {
      "cell_type": "code",
      "source": "import numpy as np\ndef calc_percentile(feedback_ratings,percentile):\n    result=np.percentile(feedback_ratings,percentile)\n    return result\nfeedback_ratings = [8, 9, 7, 6, 8, 10, 9, 8, 7, 8]\npercentile_75=calc_percentile(feedback_ratings,75)\nprint(\"75th percentile of feedback ratings:\", percentile_75)",
      "metadata": {
        "trusted": true
      },
      "execution_count": 16,
      "outputs": [
        {
          "name": "stdout",
          "text": "75th percentile of feedback ratings: 8.75\n",
          "output_type": "stream"
        }
      ],
      "id": "40ae3104-36e9-4484-bd99-5c3518a645e7"
    },
    {
      "cell_type": "markdown",
      "source": "\n11. Scenario: A quality control department wants to test the weight consistency of a product. The weights of a sample of products are as follows:\n    \n    [10.2, 9.8, 10.0, 10.5, 10.3, 10.1]\n    \n    Perform a hypothesis test to determine if the mean weight differs significantly from 10 grams\n",
      "metadata": {},
      "id": "967189d7-7753-4d9b-92be-93c70b884ee7"
    },
    {
      "cell_type": "code",
      "source": "from scipy.stats import ttest_1samp\ndef perform_one_sample_t_test(data,hypothesized_mean):\n    t_stats,p_value=ttest_1samp(data,hypothesized_mean)\n    return t_stats,p_value\nweights=[10.2,9.8,10.0,10.5,10.3,10.1]\nhypothesized_mean=10\nt_stats,p_value=perform_one_sample_t_test(weights,hypothesized_mean)\nprint(\"T-statistic:\", t_stats)\nprint(\"P-value:\", p_value)",
      "metadata": {
        "trusted": true
      },
      "execution_count": 19,
      "outputs": [
        {
          "name": "stdout",
          "text": "T-statistic: 1.5126584522688367\nP-value: 0.19077595151110102\n",
          "output_type": "stream"
        }
      ],
      "id": "840b30ce-1703-43e8-bcdd-d0c611eff2e6"
    },
    {
      "cell_type": "markdown",
      "source": "12. Scenario: A company wants to analyze the click-through rates of two different website designs. The number of clicks for each design is as follows:\n    \n    Design A: [100, 120, 110, 90, 95]\n    \n    Design B: [80, 85, 90, 95, 100]\n    \n    Perform a chi-square test to determine if there is a significant difference in the click-through rates between the two designs\n",
      "metadata": {},
      "id": "63ad120e-aa11-4a78-92b7-4d991929a85a"
    },
    {
      "cell_type": "code",
      "source": "from scipy.stats import chisquare\ndef perform_chi_square(a,b):\n    observed=[a,b]\n    chis2_stats,p_value=chisquare(observed)\n    return chis2_stats,p_value\n\na=[100,120,110,90,95]\nb=[80,85,90,95,100]\nchi2_stats,p_value=perform_chi_square(a,b)\nprint(\"Chi-square statistic:\", chi2_stats)\nprint(\"P-value:\", p_value)",
      "metadata": {
        "trusted": true
      },
      "execution_count": 22,
      "outputs": [
        {
          "name": "stdout",
          "text": "Chi-square statistic: [2.22222222 5.97560976 2.         0.13513514 0.12820513]\nP-value: [0.13603713 0.01450507 0.15729921 0.71316606 0.72030033]\n",
          "output_type": "stream"
        }
      ],
      "id": "f1eaec78-0879-448a-98ac-10f3403aa2c3"
    },
    {
      "cell_type": "markdown",
      "source": "13. Scenario: A survey is conducted to measure customer satisfaction with a product on a scale of 1 to 10. The data collected is as follows:\n    \n    [7, 9, 6, 8, 10, 7, 8, 9, 7, 8]\n    \n    Calculate the 95% confidence interval for the population mean satisfaction score.\n",
      "metadata": {},
      "id": "9733c43a-ccef-4e00-bcff-f2c41d7fb8dd"
    },
    {
      "cell_type": "code",
      "source": "import numpy as np\nfrom scipy.stats import t\ndef calculate_cofidence_interval(data,confidence_level):\n    sample_mean=np.mean(data)\n    sample_std=np.std(data,ddof=1)\n    sample_size=len(data)\n    t_value=t.ppf((1+confidence_level)/2,df=sample_size-1)\n    margin_of_error=t_value*sample_std/np.sqrt(sample_size)\n    lower_bound=sample_mean-margin_of_error\n    upper_bound=sample_mean+margin_of_error\n    return lower_bound,upper_bound\nsatisfaction_scores = [7, 9, 6, 8, 10, 7, 8, 9, 7, 8]\nconfidence_level = 0.95\nlower_bound, upper_bound = calculate_cofidence_interval(satisfaction_scores, confidence_level)\nprint(\"95% Confidence Interval:\", (lower_bound, upper_bound))\n",
      "metadata": {
        "trusted": true
      },
      "execution_count": 25,
      "outputs": [
        {
          "name": "stdout",
          "text": "95% Confidence Interval: (7.043561120599888, 8.756438879400113)\n",
          "output_type": "stream"
        }
      ],
      "id": "b14ad7d5-d553-422b-9f8e-89994431cd0a"
    },
    {
      "cell_type": "markdown",
      "source": "14. Scenario: A company wants to analyze the effect of temperature on product performance. The data collected is as follows:\n    \n    Temperature (in degrees Celsius): [20, 22, 23, 19, 21]\n    \n    Performance (on a scale of 1 to 10): [8, 7, 9, 6, 8]\n    \n    Perform a simple linear regression to predict performance based on temperature.\n",
      "metadata": {},
      "id": "7c08a5c8-e361-4548-8e23-f32f2aeffca5"
    },
    {
      "cell_type": "code",
      "source": "from scipy.stats import linregress\ndef perform_simple_linear_regression(temperature,performace):\n    slope,intercept,r_value,p_value,std_err=linregress(temperature,performace)\n    return slope,intercept,r_value,p_value,std_err\ntemperature = [20, 22, 23, 19, 21]\nperformace = [8, 7, 9, 6, 8] \nslope,intercept,r_value,p_value,std_err=perform_simple_linear_regression(temperature,performace)\nprint(\"Slope:\", slope)\nprint(\"Intercept:\", intercept)\nprint(\"R-value (correlation coefficient):\", r_value)\nprint(\"P-value:\", p_value)\nprint(\"Standard error:\", std_err)",
      "metadata": {
        "trusted": true
      },
      "execution_count": 32,
      "outputs": [
        {
          "name": "stdout",
          "text": "Slope: 0.5\nIntercept: -2.9000000000000004\nR-value (correlation coefficient): 0.6933752452815365\nP-value: 0.19417134561205843\nStandard error: 0.29999999999999993\n",
          "output_type": "stream"
        }
      ],
      "id": "4fcee55c-78d5-4452-acce-98d9c0db8750"
    },
    {
      "cell_type": "markdown",
      "source": "15. Scenario: A study is conducted to compare the preferences of two groups of participants. The preferences are measured on a Likert scale from 1 to 5. The data collected is as follows:\n    \n    Group A: [4, 3, 5, 2, 4]\n    \n    Group B: [3, 2, 4, 3, 3]\n    \n    Perform a Mann-Whitney U test to determine if there is a significant difference in the median preferences between the two groups.\n",
      "metadata": {},
      "id": "21242771-3976-4bb2-8100-112591710fac"
    },
    {
      "cell_type": "code",
      "source": "from scipy.stats import mannwhitneyu\ndef perform_mann_whitney_u_test(A,B):\n    statistic,p_value=mannwhitneyu(A,B)\n    return statistic,p_value\nA=[4, 3, 5, 2, 4]\nB=[3, 2, 4, 3, 3]\nstatistic,p_value= perform_mann_whitney_u_test(A,B)\nprint(\"Mann-Whitney U statistic:\", statistic)\nprint(\"P-value:\", p_value)\n",
      "metadata": {
        "trusted": true
      },
      "execution_count": 34,
      "outputs": [
        {
          "name": "stdout",
          "text": "Mann-Whitney U statistic: 17.0\nP-value: 0.380836480306712\n",
          "output_type": "stream"
        }
      ],
      "id": "71d94e40-067b-4a73-bcd2-910399e7a7ce"
    },
    {
      "cell_type": "markdown",
      "source": "16. Scenario: A company wants to analyze the distribution of customer ages. The data collected is as follows:\n    \n    [25, 30, 35, 40, 45, 50, 55, 60, 65, 70]\n    \n    Calculate the interquartile range (IQR) of the ages.\n",
      "metadata": {},
      "id": "fed492c9-46fa-49a4-9b79-253e04a81187"
    },
    {
      "cell_type": "code",
      "source": "import numpy as np\ndef calculate_iqr(ages):\n    q1=np.percentile(ages,25)\n    q3=np.percentile(ages,75)\n    iqr=q3-q1\n    return iqr\nages=[25,30,35,40,45,50,55,60,65,70]\niqr=calculate_iqr(ages)\nprint(\"Interquartile Range (IQR) of ages:\", iqr)",
      "metadata": {
        "trusted": true
      },
      "execution_count": 35,
      "outputs": [
        {
          "name": "stdout",
          "text": "Interquartile Range (IQR) of ages: 22.5\n",
          "output_type": "stream"
        }
      ],
      "id": "ff8ae522-c1d8-4412-839f-c46a0572fa66"
    },
    {
      "cell_type": "markdown",
      "source": "\n17. Scenario: A study is conducted to compare the performance of three different machine learning algorithms. The accuracy scores for each algorithm are as follows:\n    \n    Algorithm A: [0.85, 0.80, 0.82, 0.87, 0.83]\n    \n    Algorithm B: [0.78, 0.82, 0.84, 0.80, 0.79]\n    \n    Algorithm C: [0.90, 0.88, 0.89, 0.86, 0.87]\n    \n    Perform a Kruskal-Wallis test to determine if there is a significant difference in the median accuracy scores between the algorithms.\n",
      "metadata": {},
      "id": "1f9e585f-364e-482e-9f07-2d71b86e68a3"
    },
    {
      "cell_type": "code",
      "source": "from scipy.stats import kruskal\ndef perform_kruskal_wallis_test(algorithm_a_scores, algorithm_b_scores, algorithm_c_scores):\n    statistics,p_value=kruskal(algorithm_a_scores, algorithm_b_scores, algorithm_c_scores)\n    return statistics,p_value\nalgorithm_a_scores = [0.85, 0.80, 0.82, 0.87, 0.83]\nalgorithm_b_scores = [0.78, 0.82, 0.84, 0.80, 0.79]\nalgorithm_c_scores = [0.90, 0.88, 0.89, 0.86, 0.87]\nstatistic, p_value = perform_kruskal_wallis_test(algorithm_a_scores, algorithm_b_scores, algorithm_c_scores)\n\nprint(\"Kruskal-Wallis statistic:\", statistic)\nprint(\"P-value:\", p_value)",
      "metadata": {
        "trusted": true
      },
      "execution_count": 37,
      "outputs": [
        {
          "name": "stdout",
          "text": "Kruskal-Wallis statistic: 9.696947935368053\nP-value: 0.007840333026249539\n",
          "output_type": "stream"
        }
      ],
      "id": "0101904d-9e59-4b2a-a9c7-2d3655bcd273"
    },
    {
      "cell_type": "markdown",
      "source": "18. Scenario: A company wants to analyze the effect of price on sales. The data collected is as follows:\n    \n    Price (in dollars): [10, 15, 12, 8, 14]\n    \n    Sales: [100, 80, 90, 110, 95]\n    \n    Perform a simple linear regression to predict sales based on price.\n",
      "metadata": {},
      "id": "1e470056-ec1e-440a-8334-0b2d800a368f"
    },
    {
      "cell_type": "code",
      "source": "import numpy as np\nfrom scipy.stats import linregress\ndef perform_simple_linear_regression(price,sales):\n    slope,intercept,r_value,p_value,std_err=linregress(price,sales)\n    return slope,intercept,r_value,p_value,std_err\nprice = [10, 15, 12, 8, 14]\nsales = [100, 80, 90, 110, 95]\nslope,intercept,r_value,p_value,std_err=perform_simple_linear_regression(price,sales)\nprint(\"Slope:\", slope)\nprint(\"Intercept:\", intercept)\nprint(\"R-value (correlation coefficient):\", r_value)\nprint(\"P-value:\", p_value)\nprint(\"Standard error:\", std_err)",
      "metadata": {
        "trusted": true
      },
      "execution_count": 42,
      "outputs": [
        {
          "name": "stdout",
          "text": "Slope: -3.50609756097561\nIntercept: 136.3719512195122\nR-value (correlation coefficient): -0.8979991308594849\nP-value: 0.038501782347537684\nStandard error: 0.9918303504036143\n",
          "output_type": "stream"
        }
      ],
      "id": "71d70cea-a14a-421d-99de-ade89480086e"
    },
    {
      "cell_type": "markdown",
      "source": "19. Scenario: A survey is conducted to measure the satisfaction levels of customers with a new product. The data collected is as follows:\n    \n    [7, 8, 9, 6, 8, 7, 9, 7, 8, 7]\n    \n    Calculate the standard error of the mean satisfaction score.\n",
      "metadata": {},
      "id": "38817291-ebba-4761-83a8-b4363eac266f"
    },
    {
      "cell_type": "code",
      "source": "import numpy as np\ndef cal_standard_error(data):\n    sample_size=len(data)\n    sd=np.std(data,ddof=1)\n    std_error=sd/np.sqrt(sample_size)\n    return std_error\nsatisfaction_scores = [7, 8, 9, 6, 8, 7, 9, 7, 8, 7]\nstd_error=cal_standard_error(satisfaction_scores)\nprint(\"Standard Error of the Mean:\", std_error)",
      "metadata": {
        "trusted": true
      },
      "execution_count": 43,
      "outputs": [
        {
          "name": "stdout",
          "text": "Standard Error of the Mean: 0.30550504633038933\n",
          "output_type": "stream"
        }
      ],
      "id": "fbc850f7-8066-4025-ae66-f16166c066a0"
    },
    {
      "cell_type": "markdown",
      "source": "20. Scenario: A company wants to analyze the relationship between advertising expenditure and sales. The data collected is as follows:\n    \n    Advertising Expenditure (in thousands): [10, 15, 12, 8, 14]\n    \n    Sales (in thousands): [25, 30, 28, 20, 26]\n    \n    Perform a multiple regression analysis to predict sales based on advertising expenditure.\n",
      "metadata": {},
      "id": "66370d35-dbd0-4a6c-88ac-93fdf8117216"
    },
    {
      "cell_type": "code",
      "source": "import numpy as np\nimport statsmodels.api as sm\ndef perform_multiple_regression(ae,sales):\n    X=sm.add_constant(ae)\n    model=sm.OLS(sales,X)\n    results=model.fit()\n    return results\nae=[10,15,12,8,14]\nsales=[25,30,28,20,26]\nresults=perform_multiple_regression(ae,sales)\nprint(results.summary())\n",
      "metadata": {
        "trusted": true
      },
      "execution_count": 45,
      "outputs": [
        {
          "name": "stderr",
          "text": "/lib/python3.11/site-packages/statsmodels/stats/stattools.py:74: ValueWarning: omni_normtest is not valid with less than 8 observations; 5 samples were given.\n  warn(\"omni_normtest is not valid with less than 8 observations; %i \"\n",
          "output_type": "stream"
        },
        {
          "name": "stdout",
          "text": "                            OLS Regression Results                            \n==============================================================================\nDep. Variable:                      y   R-squared:                       0.767\nModel:                            OLS   Adj. R-squared:                  0.689\nMethod:                 Least Squares   F-statistic:                     9.872\nDate:                Mon, 10 Jul 2023   Prob (F-statistic):             0.0516\nTime:                        16:22:31   Log-Likelihood:                -9.5288\nNo. Observations:                   5   AIC:                             23.06\nDf Residuals:                       3   BIC:                             22.28\nDf Model:                           1                                         \nCovariance Type:            nonrobust                                         \n==============================================================================\n                 coef    std err          t      P>|t|      [0.025      0.975]\n------------------------------------------------------------------------------\nconst         12.2012      4.429      2.755      0.070      -1.893      26.296\nx1             1.1524      0.367      3.142      0.052      -0.015       2.320\n==============================================================================\nOmnibus:                          nan   Durbin-Watson:                   1.136\nProb(Omnibus):                    nan   Jarque-Bera (JB):                0.546\nSkew:                          -0.267   Prob(JB):                        0.761\nKurtosis:                       1.471   Cond. No.                         57.3\n==============================================================================\n\nNotes:\n[1] Standard Errors assume that the covariance matrix of the errors is correctly specified.\n",
          "output_type": "stream"
        }
      ],
      "id": "ef68fcde-66ab-4eff-bbce-edfa65c84b84"
    },
    {
      "cell_type": "code",
      "source": "",
      "metadata": {},
      "execution_count": null,
      "outputs": [],
      "id": "20c8de09-095b-405b-a268-bedfe21892da"
    }
  ]
}