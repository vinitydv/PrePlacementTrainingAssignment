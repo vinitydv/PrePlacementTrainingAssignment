{
  "metadata": {
    "kernelspec": {
      "name": "python",
      "display_name": "Python (Pyodide)",
      "language": "python"
    },
    "language_info": {
      "codemirror_mode": {
        "name": "python",
        "version": 3
      },
      "file_extension": ".py",
      "mimetype": "text/x-python",
      "name": "python",
      "nbconvert_exporter": "python",
      "pygments_lexer": "ipython3",
      "version": "3.8"
    }
  },
  "nbformat_minor": 5,
  "nbformat": 4,
  "cells": [
    {
      "cell_type": "markdown",
      "source": "1. Write a Python program to reverse a string without using any built-in string reversal functions.\n\nAnswer:\n",
      "metadata": {},
      "id": "fed2a611-c5b2-454b-99af-6726057a8031"
    },
    {
      "cell_type": "code",
      "source": "def reverse_string(input_str):\n    reversed_str = \"\"\n    for i in range(len(input_str) - 1, -1, -1):\n        reversed_str += input_str[i]\n    return reversed_str\n\n# Example usage\ninput_string = input(\"Enter a string: \")\nreversed_string = reverse_string(input_string)\nprint(\"Reversed string:\", reversed_string)\n",
      "metadata": {},
      "execution_count": null,
      "outputs": [],
      "id": "5914ff7f-4463-4714-8f0f-d8b02985cd53"
    },
    {
      "cell_type": "markdown",
      "source": "2. Implement a function to check if a given string is a palindrome.",
      "metadata": {},
      "id": "5d2ab138-f75b-49b8-92ba-374e37b0e90b"
    },
    {
      "cell_type": "code",
      "source": "def is_palindrome(input_str):\n    # Remove whitespace and convert to lowercase\n    input_str = input_str.replace(\" \", \"\").lower()\n    # Compare the string with its reverse\n    return input_str == input_str[::-1]\n\n# Example usage\ninput_string = input(\"Enter a string: \")\nif is_palindrome(input_string):\n    print(\"The string is a palindrome.\")\nelse:\n    print(\"The string is not a palindrome.\")\n",
      "metadata": {},
      "execution_count": null,
      "outputs": [],
      "id": "01ee16b3-2584-4eff-9e05-064f166766b2"
    },
    {
      "cell_type": "markdown",
      "source": "3. Write a program to find the largest element in a given list.",
      "metadata": {},
      "id": "2eb27da2-1dfa-48cf-8baa-c8ed7e610994"
    },
    {
      "cell_type": "code",
      "source": "def find_largest_element(lst):\n    if len(lst) == 0:\n        return None\n\n    largest = lst[0]  # Assume the first element is the largest\n\n    for num in lst:\n        if num > largest:\n            largest = num\n\n    return largest\n\n# Example usage\ninput_list = input(\"Enter a list of numbers separated by spaces: \").split()\ninput_list = [int(num) for num in input_list]  # Convert input strings to integers\nlargest_element = find_largest_element(input_list)\nprint(\"The largest element is:\", largest_element)\n",
      "metadata": {},
      "execution_count": null,
      "outputs": [],
      "id": "6e327a73-d060-4414-acbb-2d75d4dedf37"
    },
    {
      "cell_type": "markdown",
      "source": "4. Implement a function to count the occurrence of each element in a list.",
      "metadata": {},
      "id": "bb7680a1-371c-4e04-9e6e-f09727611c85"
    },
    {
      "cell_type": "code",
      "source": "def count_occurrences(lst):\n    occurrences = {}\n    for element in lst:\n        if element in occurrences:\n            occurrences[element] += 1\n        else:\n            occurrences[element] = 1\n    return occurrences\n\n# Example usage\ninput_list = input(\"Enter a list of elements separated by spaces: \").split()\noccurrence_counts = count_occurrences(input_list)\nprint(\"Occurrence counts:\")\nfor element, count in occurrence_counts.items():\n    print(element, \":\", count)\n",
      "metadata": {},
      "execution_count": null,
      "outputs": [],
      "id": "dedb6d61-984a-4967-8c9a-5407823a25f1"
    },
    {
      "cell_type": "markdown",
      "source": "5. Write a Python program to find the second largest number in a list.",
      "metadata": {},
      "id": "283026cb-044f-4591-ac4f-42391b04d4bf"
    },
    {
      "cell_type": "code",
      "source": "def find_second_largest(lst):\n    if len(lst) < 2:\n        return None\n\n    largest = float('-inf')  # Initialize the largest to negative infinity\n    second_largest = float('-inf')  # Initialize the second largest to negative infinity\n\n    for num in lst:\n        if num > largest:\n            second_largest = largest\n            largest = num\n        elif num > second_largest and num < largest:\n            second_largest = num\n\n    return second_largest\n\n# Example usage\ninput_list = input(\"Enter a list of numbers separated by spaces: \").split()\ninput_list = [int(num) for num in input_list]  # Convert input strings to integers\nsecond_largest_number = find_second_largest(input_list)\nif second_largest_number is not None:\n    print(\"The second largest number is:\", second_largest_number)\nelse:\n    print(\"The list does not have a second largest number.\")\n",
      "metadata": {},
      "execution_count": null,
      "outputs": [],
      "id": "064fc3e1-d89e-4d1a-990b-e072c706ca8f"
    },
    {
      "cell_type": "markdown",
      "source": "6. Implement a function to remove duplicate elements from a list.",
      "metadata": {},
      "id": "531e9435-ebcd-4a51-8dcf-62b5cb46887d"
    },
    {
      "cell_type": "code",
      "source": "def remove_duplicates(lst):\n    unique_list = []\n    seen = set()\n\n    for element in lst:\n        if element not in seen:\n            seen.add(element)\n            unique_list.append(element)\n\n    return unique_list\n\n# Example usage\ninput_list = input(\"Enter a list of elements separated by spaces: \").split()\noutput_list = remove_duplicates(input_list)\nprint(\"List with duplicates removed:\", output_list)\n",
      "metadata": {},
      "execution_count": null,
      "outputs": [],
      "id": "fbaa5bfe-c12b-4721-83c8-88666884dff7"
    },
    {
      "cell_type": "markdown",
      "source": "7. Write a program to calculate the factorial of a given number.",
      "metadata": {},
      "id": "b0099f42-97c2-42f7-9f4f-b7ecec0baece"
    },
    {
      "cell_type": "code",
      "source": "def factorial(n):\n    if n < 0:\n        return None\n    elif n == 0 or n == 1:\n        return 1\n    else:\n        result = 1\n        for i in range(2, n + 1):\n            result *= i\n        return result\n\n# Example usage\ninput_number = int(input(\"Enter a non-negative integer: \"))\nfactorial_result = factorial(input_number)\n\nif factorial_result is not None:\n    print(\"The factorial of\", input_number, \"is\", factorial_result)\nelse:\n    print(\"Invalid input. Please enter a non-negative integer.\")\n",
      "metadata": {},
      "execution_count": null,
      "outputs": [],
      "id": "f7fe2098-ec59-4271-b21d-50c7a78f1cd3"
    },
    {
      "cell_type": "markdown",
      "source": "8. Implement a function to check if a given number is prime.",
      "metadata": {},
      "id": "830cfc0e-4fa4-451e-a1e1-9b6d5b1d3b0a"
    },
    {
      "cell_type": "code",
      "source": "def is_prime(number):\n    if number <= 1:\n        return False\n\n    for i in range(2, int(number ** 0.5) + 1):\n        if number % i == 0:\n            return False\n\n    return True\n\n# Example usage\ninput_number = int(input(\"Enter a positive integer: \"))\nif is_prime(input_number):\n    print(input_number, \"is a prime number.\")\nelse:\n    print(input_number, \"is not a prime number.\")\n",
      "metadata": {},
      "execution_count": null,
      "outputs": [],
      "id": "2bac3404-4890-4298-a8f2-fd770bf13fd4"
    },
    {
      "cell_type": "markdown",
      "source": "9. Write a Python program to sort a list of integers in ascending order.",
      "metadata": {},
      "id": "1918ec3a-dcbc-43a2-b4f2-921c1301cb67"
    },
    {
      "cell_type": "code",
      "source": "def sort_list_ascending(lst):\n    sorted_lst = lst[:]  # Create a copy of the original list to avoid modifying it\n    sorted_lst.sort()  # Sort the copied list in ascending order\n    return sorted_lst\n\n# Example usage\ninput_list = input(\"Enter a list of integers separated by spaces: \").split()\ninput_list = [int(num) for num in input_list]  # Convert input strings to integers\nsorted_list = sort_list_ascending(input_list)\nprint(\"List sorted in ascending order:\", sorted_list)\n",
      "metadata": {},
      "execution_count": null,
      "outputs": [],
      "id": "503b58c0-a954-4b7c-83d6-5ae047ec18af"
    },
    {
      "cell_type": "markdown",
      "source": "10. Implement a function to find the sum of all numbers in a list.",
      "metadata": {},
      "id": "f31147af-d9df-4a25-9689-6660eba2dea3"
    },
    {
      "cell_type": "code",
      "source": "def sum_of_numbers(lst):\n    total_sum = 0\n    for num in lst:\n        total_sum += num\n    return total_sum\n\n# Example usage\ninput_list = input(\"Enter a list of numbers separated by spaces: \").split()\ninput_list = [int(num) for num in input_list]  # Convert input strings to integers\nsum_of_all_numbers = sum_of_numbers(input_list)\nprint(\"Sum of all numbers:\", sum_of_all_numbers)\n",
      "metadata": {},
      "execution_count": null,
      "outputs": [],
      "id": "14dddb61-1786-4670-9230-43bcbe8e374a"
    },
    {
      "cell_type": "markdown",
      "source": "11. Write a program to find the common elements between two lists.",
      "metadata": {},
      "id": "6976143b-4780-48d1-9572-84e8f9b418f5"
    },
    {
      "cell_type": "code",
      "source": "def find_common_elements(list1, list2):\n    common_elements = []\n    for element in list1:\n        if element in list2 and element not in common_elements:\n            common_elements.append(element)\n    return common_elements\n\n# Example usage\ninput_list1 = input(\"Enter elements for the first list separated by spaces: \").split()\ninput_list2 = input(\"Enter elements for the second list separated by spaces: \").split()\ncommon_elements = find_common_elements(input_list1, input_list2)\nprint(\"Common elements:\", common_elements)\n",
      "metadata": {},
      "execution_count": null,
      "outputs": [],
      "id": "863eb3f0-c7d4-48cc-98df-8fe24487334a"
    },
    {
      "cell_type": "markdown",
      "source": "12. Implement a function to check if a given string is an anagram of another string.",
      "metadata": {},
      "id": "53493fc5-55f3-45e3-9c9e-cdbc13f5a7b3"
    },
    {
      "cell_type": "code",
      "source": "def is_anagram(str1, str2):\n    # Remove whitespace and convert to lowercase\n    str1 = str1.replace(\" \", \"\").lower()\n    str2 = str2.replace(\" \", \"\").lower()\n\n    # Check if the sorted strings are equal\n    return sorted(str1) == sorted(str2)\n\n# Example usage\ninput_str1 = input(\"Enter the first string: \")\ninput_str2 = input(\"Enter the second string: \")\nif is_anagram(input_str1, input_str2):\n    print(\"The strings are anagrams.\")\nelse:\n    print(\"The strings are not anagrams.\")\n",
      "metadata": {},
      "execution_count": null,
      "outputs": [],
      "id": "573f9c0a-1d38-4a6d-a18d-bca2246b7924"
    },
    {
      "cell_type": "markdown",
      "source": "13. Write a Python program to generate all permutations of a given string.\n",
      "metadata": {},
      "id": "741e1d1f-0420-4c15-92e3-ead93edbfa8f"
    },
    {
      "cell_type": "code",
      "source": "def permutations(string):\n    if len(string) <= 1:\n        return [string]\n    \n    perms = []\n    \n    for i in range(len(string)):\n        char = string[i]\n        remaining_chars = string[:i] + string[i+1:]\n        \n        for perm in permutations(remaining_chars):\n            perms.append(char + perm)\n    \n    return perms\n\n# Example usage\ninput_string = input(\"Enter a string: \")\nall_perms = permutations(input_string)\nprint(\"All permutations of the string:\")\nfor perm in all_perms:\n    print(perm)\n",
      "metadata": {},
      "execution_count": null,
      "outputs": [],
      "id": "38ff45d9-0008-4aab-8f66-38ab7bbe7390"
    },
    {
      "cell_type": "markdown",
      "source": "14. Implement a function to calculate the Fibonacci sequence up to a given number of terms.",
      "metadata": {},
      "id": "2f05cdad-b193-4690-a708-699464988793"
    },
    {
      "cell_type": "code",
      "source": "def fibonacci_sequence(n):\n    sequence = []\n    \n    if n >= 1:\n        sequence.append(0)\n    if n >= 2:\n        sequence.append(1)\n    \n    for i in range(2, n):\n        sequence.append(sequence[i-1] + sequence[i-2])\n    \n    return sequence\n\n# Example usage\ninput_terms = int(input(\"Enter the number of terms in the Fibonacci sequence: \"))\nfibonacci_sequence_terms = fibonacci_sequence(input_terms)\nprint(\"Fibonacci sequence:\")\nfor term in fibonacci_sequence_terms:\n    print(term)\n",
      "metadata": {},
      "execution_count": null,
      "outputs": [],
      "id": "832a5a0b-9eb4-418e-84e6-e975c9a6b92f"
    },
    {
      "cell_type": "markdown",
      "source": "15. Write a program to find the median of a list of numbers.",
      "metadata": {},
      "id": "0622fcd0-db1f-42b3-81d6-6199214dc711"
    },
    {
      "cell_type": "code",
      "source": "def find_median(numbers):\n    sorted_numbers = sorted(numbers)\n    n = len(sorted_numbers)\n    \n    if n % 2 == 0:\n        mid_right = n // 2\n        mid_left = mid_right - 1\n        median = (sorted_numbers[mid_left] + sorted_numbers[mid_right]) / 2\n    else:\n        mid = n // 2\n        median = sorted_numbers[mid]\n    \n    return median\n\n# Example usage\ninput_list = input(\"Enter a list of numbers separated by spaces: \").split()\ninput_list = [float(num) for num in input_list]  # Convert input strings to floats\nmedian = find_median(input_list)\nprint(\"Median:\", median)\n",
      "metadata": {},
      "execution_count": null,
      "outputs": [],
      "id": "9f33b1d6-c604-4695-8a3a-547a8dff1e91"
    },
    {
      "cell_type": "markdown",
      "source": "16. Implement a function to check if a given list is sorted in non-decreasing order.",
      "metadata": {},
      "id": "4cd38af1-aeeb-4d2b-a5df-b42f45d33ea2"
    },
    {
      "cell_type": "code",
      "source": "def is_sorted_non_decreasing(list):\n  \"\"\"\n  Checks if a given list is sorted in non-decreasing order.\n\n  Args:\n    list: The list to check.\n\n  Returns:\n    True if the list is sorted in non-decreasing order, False otherwise.\n  \"\"\"\n\n  for i in range(len(list) - 1):\n    if list[i] > list[i + 1]:\n      return False\n  return True\n\n\ndef main():\n  list = [1, 2, 3, 4, 5]\n  print(is_sorted_non_decreasing(list))\n\n\nif __name__ == \"__main__\":\n  main()\n",
      "metadata": {},
      "execution_count": null,
      "outputs": [],
      "id": "5071187e-3506-4686-a1a3-926680faec92"
    },
    {
      "cell_type": "markdown",
      "source": "17. Write a Python program to find the intersection of two lists.",
      "metadata": {},
      "id": "eab52926-64b6-420e-9a18-3f1138133d37"
    },
    {
      "cell_type": "code",
      "source": "def find_intersection(list1, list2):\n  \"\"\"\n  Finds the intersection of two lists.\n\n  Args:\n    list1: The first list.\n    list2: The second list.\n\n  Returns:\n    A list of the elements that are in both lists.\n  \"\"\"\n\n  intersection = []\n  for element in list1:\n    if element in list2:\n      intersection.append(element)\n  return intersection\n\n\ndef main():\n  list1 = [1, 2, 3, 4, 5]\n  list2 = [2, 3, 5, 6, 7]\n  print(find_intersection(list1, list2))\n\n\nif __name__ == \"__main__\":\n  main()\n",
      "metadata": {},
      "execution_count": null,
      "outputs": [],
      "id": "d662f6e6-b97e-4961-aaae-5e683bdda915"
    },
    {
      "cell_type": "markdown",
      "source": "18. Implement a function to find the maximum subarray sum in a given list.",
      "metadata": {},
      "id": "3387a48b-31fd-4119-a633-5993c4a21d79"
    },
    {
      "cell_type": "code",
      "source": "def max_subarray_sum(list):\n  \"\"\"\n  Finds the maximum sum of a contiguous subarray in a list.\n\n  Args:\n    list: The list to find the maximum subarray sum for.\n\n  Returns:\n    The maximum subarray sum.\n  \"\"\"\n\n  max_ending_here = 0\n  max_so_far = float(\"-inf\")\n  for element in list:\n    max_ending_here = max(max_ending_here + element, element)\n    max_so_far = max(max_so_far, max_ending_here)\n  return max_so_far\n\n\ndef main():\n  list = [1, -2, 3, 4, -1, 2, 1, -5]\n  print(max_subarray_sum(list))\n\n\nif __name__ == \"__main__\":\n  main()\n",
      "metadata": {},
      "execution_count": null,
      "outputs": [],
      "id": "d00b8de3-bcf1-473b-a5b1-fd2c5379965b"
    },
    {
      "cell_type": "markdown",
      "source": "19. Write a program to remove all vowels from a given string.",
      "metadata": {},
      "id": "ce6dc266-410b-41e1-a938-b88a9b7f023a"
    },
    {
      "cell_type": "code",
      "source": "def remove_vowels(string):\n    vowels = \"aeiouAEIOU\"\n    removed = \"\"\n\n    for char in string:\n        if char not in vowels:\n            removed += char\n\n    return removed\n\n# Example usage\ninput_string = input(\"Enter a string: \")\nstring_without_vowels = remove_vowels(input_string)\nprint(\"String without vowels:\", string_without_vowels)\n",
      "metadata": {},
      "execution_count": null,
      "outputs": [],
      "id": "c8794b3d-d450-4b46-ae0b-d9b72a5fa084"
    },
    {
      "cell_type": "markdown",
      "source": "20. Implement a function to reverse the order of words in a given sentence.",
      "metadata": {},
      "id": "70d7af9a-412c-484e-8978-861b2e63ae93"
    },
    {
      "cell_type": "code",
      "source": "def reverse_words(sentence):\n    words = sentence.split()\n    reversed_words = words[::-1]\n    reversed_sentence = \" \".join(reversed_words)\n    return reversed_sentence\n\n# Example usage\ninput_sentence = input(\"Enter a sentence: \")\nreversed_sentence = reverse_words(input_sentence)\nprint(\"Reversed sentence:\", reversed_sentence)\n",
      "metadata": {},
      "execution_count": null,
      "outputs": [],
      "id": "c98f74d0-ec88-4d2a-99f3-81040d879fb9"
    },
    {
      "cell_type": "markdown",
      "source": "21. Write a Python program to check if two strings are anagrams of each other.",
      "metadata": {},
      "id": "05303b47-31d4-4879-a011-106fd989c80f"
    },
    {
      "cell_type": "code",
      "source": "def are_anagrams(str1, str2):\n    # Remove whitespace and convert to lowercase\n    str1 = str1.replace(\" \", \"\").lower()\n    str2 = str2.replace(\" \", \"\").lower()\n\n    # Check if the sorted strings are equal\n    return sorted(str1) == sorted(str2)\n\n# Example usage\ninput_str1 = input(\"Enter the first string: \")\ninput_str2 = input(\"Enter the second string: \")\nif are_anagrams(input_str1, input_str2):\n    print(\"The strings are anagrams.\")\nelse:\n    print(\"The strings are not anagrams.\")\n",
      "metadata": {},
      "execution_count": null,
      "outputs": [],
      "id": "0a17ec0e-4789-4580-88dc-50c72953cd68"
    },
    {
      "cell_type": "markdown",
      "source": "22. Implement a function to find the first non-repeating character in a string.",
      "metadata": {},
      "id": "f5419229-5151-4028-9945-46079b2dbcb0"
    },
    {
      "cell_type": "code",
      "source": "def find_first_non_repeating_character(string):\n    char_count = {}\n    \n    # Count the occurrences of each character\n    for char in string:\n        if char in char_count:\n            char_count[char] += 1\n        else:\n            char_count[char] = 1\n    \n    # Find the first character with count 1\n    for char in string:\n        if char_count[char] == 1:\n            return char\n    \n    # If no non-repeating character found\n    return None\n\n# Example usage\ninput_string = input(\"Enter a string: \")\nfirst_non_repeating = find_first_non_repeating_character(input_string)\nif first_non_repeating is not None:\n    print(\"First non-repeating character:\", first_non_repeating)\nelse:\n    print(\"No non-repeating character found.\")\n",
      "metadata": {},
      "execution_count": null,
      "outputs": [],
      "id": "effd760d-7ed4-401d-87b7-c6cbcf2719a6"
    },
    {
      "cell_type": "markdown",
      "source": "23. Write a program to find the prime factors of a given number.",
      "metadata": {},
      "id": "90c577e8-2816-4e82-8dd1-5953df070824"
    },
    {
      "cell_type": "code",
      "source": "def find_prime_factors(n):\n    factors = []\n    i = 2  # Start with the smallest prime number\n\n    while i * i <= n:\n        if n % i:\n            i += 1\n        else:\n            n //= i\n            factors.append(i)\n\n    if n > 1:\n        factors.append(n)\n\n    return factors\n\n# Example usage\nnumber = int(input(\"Enter a number: \"))\nprime_factors = find_prime_factors(number)\nprint(\"Prime factors of\", number, \"are:\", prime_factors)\n",
      "metadata": {},
      "execution_count": null,
      "outputs": [],
      "id": "5a5e1b01-6be6-401c-bb48-2c4876e2b7d7"
    },
    {
      "cell_type": "markdown",
      "source": "24. Implement a function to check if a given number is a power of two.",
      "metadata": {},
      "id": "47c10898-a6c4-4996-acf2-a5aec9c847e0"
    },
    {
      "cell_type": "code",
      "source": "def is_power_of_two(number):\n  \"\"\"\n  Checks if a given number is a power of two.\n\n  Args:\n    number: The number to check.\n\n  Returns:\n    True if the number is a power of two, False otherwise.\n  \"\"\"\n\n  if number == 0:\n    return False\n  while number % 2 == 0:\n    number = number // 2\n  return number == 1\n\n\ndef main():\n  number = 16\n  print(is_power_of_two(number))\n\n\nif __name__ == \"__main__\":\n  main()\n",
      "metadata": {},
      "execution_count": null,
      "outputs": [],
      "id": "1606e310-9d83-4cc8-bda7-ce25d63be22b"
    },
    {
      "cell_type": "markdown",
      "source": "25. Write a Python program to merge two sorted lists into a single sorted list.",
      "metadata": {},
      "id": "dd6e3bd7-c4d6-425b-b837-8878fb6d44be"
    },
    {
      "cell_type": "code",
      "source": "def merge_sorted_lists(list1, list2):\n    merged_list = []\n    i = j = 0\n\n    while i < len(list1) and j < len(list2):\n        if list1[i] < list2[j]:\n            merged_list.append(list1[i])\n            i += 1\n        else:\n            merged_list.append(list2[j])\n            j += 1\n\n    # Append the remaining elements from the remaining list\n    merged_list.extend(list1[i:])\n    merged_list.extend(list2[j:])\n\n    return merged_list\n\n# Example usage\nlist1 = [1, 3, 5, 7]\nlist2 = [2, 4, 6, 8]\nmerged_list = merge_sorted_lists(list1, list2)\nprint(\"Merged and sorted list:\", merged_list)\n",
      "metadata": {},
      "execution_count": null,
      "outputs": [],
      "id": "49d70b8f-9869-4524-9ca8-8d683224f9f6"
    },
    {
      "cell_type": "markdown",
      "source": "26. Implement a function to find the mode of a list of numbers.",
      "metadata": {},
      "id": "2ade56ae-b88d-475e-bfeb-dd239c7ba968"
    },
    {
      "cell_type": "code",
      "source": "from collections import Counter\n\ndef find_mode(numbers):\n    # Count the frequency of each number\n    frequency = Counter(numbers)\n\n    # Find the highest frequency\n    max_frequency = max(frequency.values())\n\n    # Find the number(s) with the highest frequency\n    modes = [num for num, freq in frequency.items() if freq == max_frequency]\n\n    return modes\n\n# Example usage\nnumbers = [1, 2, 3, 3, 4, 4, 4, 5]\nmodes = find_mode(numbers)\nprint(\"Mode(s):\", modes)\n",
      "metadata": {},
      "execution_count": null,
      "outputs": [],
      "id": "e3593760-d5f8-4dcd-b677-7a2362529684"
    },
    {
      "cell_type": "markdown",
      "source": "27. Write a program to find the greatest common divisor (GCD) of two numbers.",
      "metadata": {},
      "id": "9edf3279-0d30-4da1-9134-4063e1d1567a"
    },
    {
      "cell_type": "code",
      "source": "def gcd(a, b):\n    while b != 0:\n        a, b = b, a % b\n    return a\n\n# Example usage\nnum1 = 72\nnum2 = 48\nresult = gcd(num1, num2)\nprint(f\"The GCD of {num1} and {num2} is {result}\")\n",
      "metadata": {},
      "execution_count": null,
      "outputs": [],
      "id": "bf61a2a6-8b78-4c41-ba8e-dc5b7f35f173"
    },
    {
      "cell_type": "markdown",
      "source": "28. Implement a function to calculate the square root of a given number.",
      "metadata": {},
      "id": "f2482cb5-0dbb-4fa8-89ea-c8a4fd135a86"
    },
    {
      "cell_type": "code",
      "source": "def square_root(number, epsilon=1e-7):\n    if number < 0:\n        raise ValueError(\"Square root is not defined for negative numbers.\")\n    guess = number\n    while abs(guess * guess - number) > epsilon:\n        guess = (guess + number / guess) / 2\n    return guess\n",
      "metadata": {},
      "execution_count": null,
      "outputs": [],
      "id": "a6972cd6-643c-40c6-86d7-9907f4864703"
    },
    {
      "cell_type": "markdown",
      "source": "29. Write a Python program to check if a given string is a valid palindrome ignoring non-alphanumeric characters.\n",
      "metadata": {},
      "id": "01fce4e3-14c4-4c78-a82e-cd0a4059c9b1"
    },
    {
      "cell_type": "code",
      "source": "import re\n\ndef is_palindrome(string):\n    # Remove non-alphanumeric characters and convert to lowercase\n    cleaned_string = re.sub(r'[^a-zA-Z0-9]', '', string.lower())\n    return cleaned_string == cleaned_string[::-1]\n\n# Example usage\nstring1 = \"A man, a plan, a canal: Panama\"\nprint(is_palindrome(string1))  # True\n\nstring2 = \"race a car\"\nprint(is_palindrome(string2))  # False\n",
      "metadata": {},
      "execution_count": null,
      "outputs": [],
      "id": "8735aa2d-96a8-492c-9184-77e16440b279"
    },
    {
      "cell_type": "markdown",
      "source": "30. Implement a function to find the minimum element in a rotated sorted list.",
      "metadata": {},
      "id": "fb50831d-93f2-48e7-ae4c-dc7268514fa9"
    },
    {
      "cell_type": "code",
      "source": "def find_min(nums):\n    left = 0\n    right = len(nums) - 1\n\n    while left < right:\n        mid = left + (right - left) // 2\n\n        if nums[mid] > nums[right]:\n            left = mid + 1\n        else:\n            right = mid\n\n    return nums[left]\n\n# Example usage\nnums = [4, 5, 6, 7, 0, 1, 2]\nmin_element = find_min(nums)\nprint(\"The minimum element is:\", min_element)\n",
      "metadata": {},
      "execution_count": null,
      "outputs": [],
      "id": "b154dcd8-cef3-4c4d-be00-a728e16f10a7"
    },
    {
      "cell_type": "markdown",
      "source": "31. Write a program to find the sum of all even numbers in a list.",
      "metadata": {},
      "id": "71545ac5-133a-46f5-abdf-cc68ddc6fe34"
    },
    {
      "cell_type": "code",
      "source": "def sum_even_numbers(numbers):\n    even_sum = 0\n    for num in numbers:\n        if num % 2 == 0:\n            even_sum += num\n    return even_sum\n\n# Example usage\nnumbers = [1, 2, 3, 4, 5, 6, 7, 8, 9, 10]\nresult = sum_even_numbers(numbers)\nprint(\"The sum of even numbers is:\", result)\n",
      "metadata": {},
      "execution_count": null,
      "outputs": [],
      "id": "225d600c-16b6-4904-b2bc-9c416b11dc6c"
    },
    {
      "cell_type": "markdown",
      "source": "32. Implement a function to calculate the power of a number using recursion.",
      "metadata": {},
      "id": "27131122-322d-47cb-a713-9b2c980d4105"
    },
    {
      "cell_type": "code",
      "source": "def power(base, exponent):\n    if exponent == 0:\n        return 1\n    elif exponent > 0:\n        return base * power(base, exponent - 1)\n    else:\n        return 1 / (base * power(base, -exponent - 1))\n\n# Example usage\nbase = 2\nexponent = 3\nresult = power(base, exponent)\nprint(f\"{base} raised to the power of {exponent} is:\", result)\n",
      "metadata": {},
      "execution_count": null,
      "outputs": [],
      "id": "af6d2b77-9e2d-4aa0-a9bc-112947804b96"
    },
    {
      "cell_type": "markdown",
      "source": "33. Write a Python program to remove duplicates from a list while preserving the order.",
      "metadata": {},
      "id": "832383f7-8fde-4629-8737-40123f5b5ac5"
    },
    {
      "cell_type": "code",
      "source": "def remove_duplicates(lst):\n    seen = set()\n    result = []\n    for item in lst:\n        if item not in seen:\n            seen.add(item)\n            result.append(item)\n    return result\n\n# Example usage\nmy_list = [1, 2, 3, 2, 4, 1, 5, 3, 6, 7, 7]\nunique_list = remove_duplicates(my_list)\nprint(\"List with duplicates removed:\", unique_list)\n",
      "metadata": {},
      "execution_count": null,
      "outputs": [],
      "id": "8ee2cfe4-8aeb-42da-992f-d90e239518b8"
    },
    {
      "cell_type": "markdown",
      "source": "34. Implement a function to find the longest common prefix among a list of strings.",
      "metadata": {},
      "id": "3dbe92a0-4a9d-4db1-8d53-65cf3f05be5a"
    },
    {
      "cell_type": "code",
      "source": "def longest_common_prefix(strs):\n    if not strs:\n        return \"\"\n\n    # Find the minimum length string in the list\n    min_length = min(len(s) for s in strs)\n\n    # Iterate character by character\n    for i in range(min_length):\n        char = strs[0][i]\n        if any(s[i] != char for s in strs):\n            return strs[0][:i]\n    \n    return strs[0][:min_length]\n\n# Example usage\nstring_list = [\"flower\", \"flow\", \"flight\"]\ncommon_prefix = longest_common_prefix(string_list)\nprint(\"Longest common prefix:\", common_prefix)\n",
      "metadata": {},
      "execution_count": null,
      "outputs": [],
      "id": "692c99e6-2431-444e-9eee-6252cb52f858"
    },
    {
      "cell_type": "markdown",
      "source": "35. Write a program to check if a given number is a perfect square.",
      "metadata": {},
      "id": "e20d927c-e1ef-4ae2-bcea-dec5bf40eacf"
    },
    {
      "cell_type": "code",
      "source": "def is_perfect_square(number):\n    if number < 0:\n        return False\n\n    # Using the property: square root of a perfect square is an integer\n    square_root = int(number ** 0.5)\n    return square_root * square_root == number\n\n# Example usage\nnum1 = 16\nprint(is_perfect_square(num1))  # True\n\nnum2 = 27\nprint(is_perfect_square(num2))  # False\n",
      "metadata": {},
      "execution_count": null,
      "outputs": [],
      "id": "5e5833c9-04c1-42d7-81e7-c3e38e6cbfdd"
    },
    {
      "cell_type": "markdown",
      "source": "36. Implement a function to calculate the product of all elements in a list.",
      "metadata": {},
      "id": "18792e1c-fb0f-4d64-a137-6674dfc53585"
    },
    {
      "cell_type": "code",
      "source": "def calculate_product(lst):\n    product = 1\n    for num in lst:\n        product *= num\n    return product\n\n# Example usage\nnumbers = [2, 3, 4, 5]\nresult = calculate_product(numbers)\nprint(\"Product:\", result)\n",
      "metadata": {},
      "execution_count": null,
      "outputs": [],
      "id": "b7c8d7ce-57e3-483b-8cc9-6a945c53a234"
    },
    {
      "cell_type": "markdown",
      "source": "37. Write a Python program to reverse the order of words in a sentence while preserving the word order.",
      "metadata": {},
      "id": "a493bcb2-1858-4117-bec8-015cf255bd9a"
    },
    {
      "cell_type": "code",
      "source": "def reverse_sentence(sentence):\n    words = sentence.split()  # Split the sentence into individual words\n    reversed_words = words[::-1]  # Reverse the order of words\n    reversed_sentence = ' '.join(reversed_words)  # Join the reversed words back into a sentence\n    return reversed_sentence\n\n# Example usage\nsentence = input(\"Enter a sentence: \")\nreversed_sentence = reverse_sentence(sentence)\nprint(\"Reversed sentence:\", reversed_sentence)\n",
      "metadata": {},
      "execution_count": null,
      "outputs": [],
      "id": "0dee8d4a-f3a2-43d1-ae4d-8f9263e41a2c"
    },
    {
      "cell_type": "markdown",
      "source": "38. Implement a function to find the missing number in a given list of consecutive numbers.",
      "metadata": {},
      "id": "87e40ac0-35cc-4f7d-b5fd-bf5e883f9e1f"
    },
    {
      "cell_type": "code",
      "source": "def find_missing_number(lst):\n    n = len(lst) + 1  # Length of the original list plus one missing number\n    total_sum = (n * (n + 1)) // 2  # Sum of all numbers from 1 to n using the formula n * (n + 1) / 2\n    actual_sum = sum(lst)  # Sum of the numbers in the given list\n    missing_number = total_sum - actual_sum\n    return missing_number\n\n# Example usage\nnumbers = [1, 2, 3, 5, 6]\nmissing = find_missing_number(numbers)\nprint(\"Missing number:\", missing)\n",
      "metadata": {},
      "execution_count": null,
      "outputs": [],
      "id": "95449a64-af8d-430c-99df-bcb987cc53cf"
    },
    {
      "cell_type": "markdown",
      "source": "39. Write a program to find the sum of digits of a given number.",
      "metadata": {},
      "id": "be011657-e967-4db5-82d6-589f00e022ac"
    },
    {
      "cell_type": "code",
      "source": "def sum_of_digits(number):\n    # Convert the number to a string\n    number_str = str(number)\n    # Initialize the sum variable\n    digit_sum = 0\n    # Iterate through each digit in the number\n    for digit in number_str:\n        # Convert the digit back to an integer and add it to the sum\n        digit_sum += int(digit)\n    return digit_sum\n\n# Example usage\nnumber = int(input(\"Enter a number: \"))\nresult = sum_of_digits(number)\nprint(\"Sum of digits:\", result)\n",
      "metadata": {},
      "execution_count": null,
      "outputs": [],
      "id": "901b9d23-4776-48cd-bc16-3cd8b7bdef28"
    },
    {
      "cell_type": "markdown",
      "source": "40. Implement a function to check if a given string is a valid palindrome considering case sensitivity.",
      "metadata": {},
      "id": "db61c34f-de6e-4ef3-8181-10699de6820c"
    },
    {
      "cell_type": "code",
      "source": "def is_valid_palindrome(string):\n    # Remove any spaces and convert the string to lowercase\n    string = string.replace(\" \", \"\").lower()\n    # Check if the string is equal to its reverse\n    return string == string[::-1]\n\n# Example usage\ntext = input(\"Enter a string: \")\nif is_valid_palindrome(text):\n    print(\"The string is a valid palindrome.\")\nelse:\n    print(\"The string is not a valid palindrome.\")\n",
      "metadata": {},
      "execution_count": null,
      "outputs": [],
      "id": "4377eaa4-aa40-4bb9-ae3d-9d0b97d4e5ca"
    },
    {
      "cell_type": "markdown",
      "source": "41. Write a Python program to find the smallest missing positive integer in a list.",
      "metadata": {},
      "id": "6ec94fa0-e434-401f-9860-0395230e7f94"
    },
    {
      "cell_type": "code",
      "source": "def find_smallest_missing_positive(nums):\n    n = len(nums)\n\n    # Step 1: Move all non-positive numbers to the left side\n    i = 0\n    while i < n:\n        if nums[i] <= 0 or nums[i] > n:\n            i += 1\n        elif nums[nums[i] - 1] != nums[i]:\n            nums[nums[i] - 1], nums[i] = nums[i], nums[nums[i] - 1]\n        else:\n            i += 1\n\n    # Step 2: Find the first missing positive number\n    for i in range(n):\n        if nums[i] != i + 1:\n            return i + 1\n\n    # Step 3: All numbers from 1 to n are present, so the missing number is n + 1\n    return n + 1\n\n# Example usage\nnumbers = [3, 4, -1, 1]\nsmallest_missing = find_smallest_missing_positive(numbers)\nprint(\"Smallest missing positive integer:\", smallest_missing)\n",
      "metadata": {},
      "execution_count": null,
      "outputs": [],
      "id": "5970ac7d-38c7-4138-ab38-6cd9071cba0f"
    },
    {
      "cell_type": "markdown",
      "source": "42. Implement a function to find the longest palindrome substring in a given string.",
      "metadata": {},
      "id": "04d4d303-e671-4350-bc6a-231a975e539a"
    },
    {
      "cell_type": "code",
      "source": "def longest_palindrome_substring(s):\n    n = len(s)\n    if n < 2:\n        return s\n\n    max_len = 1\n    start = 0\n\n    # Create a table to store the results of subproblems\n    table = [[False] * n for _ in range(n)]\n\n    # All substrings of length 1 are palindromes\n    for i in range(n):\n        table[i][i] = True\n\n    # Check for substrings of length 2\n    for i in range(n - 1):\n        if s[i] == s[i + 1]:\n            table[i][i + 1] = True\n            max_len = 2\n            start = i\n\n    # Check for substrings of length greater than 2\n    for length in range(3, n + 1):\n        for i in range(n - length + 1):\n            j = i + length - 1\n            if s[i] == s[j] and table[i + 1][j - 1]:\n                table[i][j] = True\n                max_len = length\n                start = i\n\n    return s[start : start + max_len]\n",
      "metadata": {},
      "execution_count": null,
      "outputs": [],
      "id": "f64b31a9-e295-48cc-bf80-7cf23eb2ea57"
    },
    {
      "cell_type": "markdown",
      "source": "43. Write a program to find the number of occurrences of a given element in a list",
      "metadata": {},
      "id": "50ce9d58-bf7f-4166-8ee2-2dda01e0d87e"
    },
    {
      "cell_type": "code",
      "source": "def count_occurrences(lst, element):\n    count = 0\n    for item in lst:\n        if item == element:\n            count += 1\n    return count\n\n# Example usage\nmy_list = [1, 2, 3, 4, 2, 2, 3, 1, 1, 2]\ntarget_element = 2\noccurrences = count_occurrences(my_list, target_element)\nprint(\"Number of occurrences:\", occurrences)\n",
      "metadata": {},
      "execution_count": null,
      "outputs": [],
      "id": "5422a689-989f-4179-bd59-4133d33fbb55"
    },
    {
      "cell_type": "markdown",
      "source": "44. Implement a function to check if a given number is a perfect number.",
      "metadata": {},
      "id": "9e4ab88e-259a-4768-af1e-e8360c515432"
    },
    {
      "cell_type": "code",
      "source": "def is_perfect_number(num):\n    if num <= 0:\n        return False\n\n    divisor_sum = 0\n    for i in range(1, num):\n        if num % i == 0:\n            divisor_sum += i\n\n    return divisor_sum == num\n",
      "metadata": {},
      "execution_count": null,
      "outputs": [],
      "id": "b49d1911-07ad-449c-a86f-6e0d2f3a7d1a"
    },
    {
      "cell_type": "markdown",
      "source": "45. Write a Python program to remove all duplicates from a string.",
      "metadata": {},
      "id": "7206c045-1a1a-47b4-9877-307247ecb428"
    },
    {
      "cell_type": "code",
      "source": "def remove_duplicates(string):\n    # Convert the string to a set to remove duplicates\n    unique_chars = set(string)\n    \n    # Convert the set back to a string\n    result = ''.join(unique_chars)\n    \n    return result\n\n# Example usage\ninput_string = \"Hello, world!\"\nresult_string = remove_duplicates(input_string)\nprint(\"String with duplicates removed:\", result_string)\n",
      "metadata": {},
      "execution_count": null,
      "outputs": [],
      "id": "55bb76c4-bb65-4b9c-918f-56fa8d5cae19"
    },
    {
      "cell_type": "markdown",
      "source": "46. Implement a function to find the first missing positive",
      "metadata": {},
      "id": "2f5ae5ba-0f93-43fb-ab59-27a2e8670a32"
    },
    {
      "cell_type": "code",
      "source": "def find_first_missing_positive(nums):\n    n = len(nums)\n\n    # Step 1: Move all positive integers to their respective indices\n    i = 0\n    while i < n:\n        if 0 < nums[i] <= n and nums[i] != nums[nums[i] - 1]:\n            nums[nums[i] - 1], nums[i] = nums[i], nums[nums[i] - 1]\n        else:\n            i += 1\n\n    # Step 2: Find the first missing positive integer\n    for i in range(n):\n        if nums[i] != i + 1:\n            return i + 1\n\n    # If all positive integers from 1 to n are present, the missing positive is n + 1\n    return n + 1\n",
      "metadata": {},
      "execution_count": null,
      "outputs": [],
      "id": "39fe7ff7-6699-4fd0-ba93-bcab9f16c202"
    }
  ]
}