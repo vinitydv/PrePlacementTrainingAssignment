{
 "cells": [
  {
   "cell_type": "markdown",
   "id": "35407a73-51c9-430e-9e50-a14c3c6b7b35",
   "metadata": {},
   "source": [
    "💡 **Question 1** Given an integer array nums of 2n integers, group these integers into n pairs (a1, b1), (a2, b2),..., (an, bn) such that the sum of min(ai, bi) for all i is maximized. Return the maximized sum.\n",
    "\n",
    "Example 1: Input: nums = [1,4,3,2] Output: 4\n",
    "\n",
    "Explanation: All possible pairings (ignoring the ordering of elements) are:\n",
    "\n",
    "(1, 4), (2, 3) -> min(1, 4) + min(2, 3) = 1 + 2 = 3\n",
    "(1, 3), (2, 4) -> min(1, 3) + min(2, 4) = 1 + 2 = 3\n",
    "(1, 2), (3, 4) -> min(1, 2) + min(3, 4) = 1 + 3 = 4\n",
    "So the maximum possible sum is 4"
   ]
  },
  {
   "cell_type": "code",
   "execution_count": 1,
   "id": "f0a4596e-47e0-4f78-b406-08142b7ca26e",
   "metadata": {},
   "outputs": [
    {
     "data": {
      "text/plain": [
       "4"
      ]
     },
     "execution_count": 1,
     "metadata": {},
     "output_type": "execute_result"
    }
   ],
   "source": [
    "def ArrayPairSum(nums):\n",
    "    nums.sort()\n",
    "    max_sum=0\n",
    "    for i in range(0,len(nums),2):\n",
    "        max_sum+=nums[i]\n",
    "    return max_sum\n",
    "nums=[1,4,3,2]\n",
    "ArrayPairSum(nums)"
   ]
  },
  {
   "cell_type": "markdown",
   "id": "6a90ceca-3e73-42c6-a23b-7585a3df4a26",
   "metadata": {},
   "source": [
    "Question 2 Alice has n candies, where the ith candy is of type candyType[i]. Alice noticed that she started to gain weight, so she visited a doctor.\n",
    "\n",
    "The doctor advised Alice to only eat n / 2 of the candies she has (n is always even). Alice likes her candies very much, and she wants to eat the maximum number of different types of candies while still following the doctor's advice.\n",
    "\n",
    "Given the integer array candyType of length n, return the maximum number of different types of candies she can eat if she only eats n / 2 of them.\n",
    "\n",
    "Example 1: Input: candyType = [1,1,2,2,3,3] Output: 3\n",
    "\n",
    "Explanation: Alice can only eat 6 / 2 = 3 candies. Since there are only 3 types, she can eat one of each type."
   ]
  },
  {
   "cell_type": "code",
   "execution_count": 2,
   "id": "488e84bc-d009-438f-9181-aac68fd8d2bd",
   "metadata": {},
   "outputs": [
    {
     "data": {
      "text/plain": [
       "3"
      ]
     },
     "execution_count": 2,
     "metadata": {},
     "output_type": "execute_result"
    }
   ],
   "source": [
    "def distributeCandies(candyType):\n",
    "    max_candies_alice=len(candyType)//2\n",
    "    type_candies=set(candyType)\n",
    "    n=len(type_candies)\n",
    "    if n>max_candies_alice:\n",
    "        return max_candies_alice\n",
    "    else:\n",
    "        return n   \n",
    "candyType=[1,1,2,2,3,3]\n",
    "distributeCandies(candyType)"
   ]
  },
  {
   "cell_type": "markdown",
   "id": "366c62cb-7c69-4acd-b54e-24acf29a7146",
   "metadata": {},
   "source": [
    "Question 3. We define a harmonious array as an array where the difference between its maximum value and its minimum value is exactly 1.\n",
    "\n",
    "Given an integer array nums, return the length of its longest harmonious subsequence among all its possible subsequences.\n",
    "\n",
    "A subsequence of an array is a sequence that can be derived from the array by deleting some or no elements without changing the order of the remaining elements.\n",
    "\n",
    "Example 1: Input: nums = [1,3,2,2,5,2,3,7] Output: 5"
   ]
  },
  {
   "cell_type": "code",
   "execution_count": 3,
   "id": "4d668a07-7b84-412e-a3b9-2afd4078103d",
   "metadata": {},
   "outputs": [
    {
     "data": {
      "text/plain": [
       "5"
      ]
     },
     "execution_count": 3,
     "metadata": {},
     "output_type": "execute_result"
    }
   ],
   "source": [
    "from collections import Counter\n",
    "def findLHS(nums):\n",
    "    freq=Counter(nums)\n",
    "    max_length=0\n",
    "    for key in freq:\n",
    "        if key+1 in freq:\n",
    "            max_length=max(max_length,freq[key]+freq[key+1])\n",
    "    return max_length       \n",
    "            \n",
    "nums= [1,3,2,2,5,2,3,7] \n",
    "findLHS(nums)"
   ]
  },
  {
   "cell_type": "markdown",
   "id": "5f3f6d04-1066-4683-ad7e-fd7680139f75",
   "metadata": {},
   "source": [
    "Question 4 You have a long flowerbed in which some of the plots are planted, and some are not. However, flowers cannot be planted in adjacent plots. Given an integer array flowerbed containing 0's and 1's, where 0 means empty and 1 means not empty, and an integer n, return true if n new flowers can be planted in the flowerbed without violating the no-adjacent-flowers rule and false otherwise.\n",
    "\n",
    "Example 1: Input: flowerbed = [1,0,0,0,1], n = 1 Output: true"
   ]
  },
  {
   "cell_type": "code",
   "execution_count": 4,
   "id": "0c463852-7fb0-4f8e-ab9b-11b7e228f609",
   "metadata": {},
   "outputs": [
    {
     "data": {
      "text/plain": [
       "True"
      ]
     },
     "execution_count": 4,
     "metadata": {},
     "output_type": "execute_result"
    }
   ],
   "source": [
    "def canPlaceFlower(flowerbed,n):\n",
    "    count=0\n",
    "    for i in range(0,len(flowerbed)):\n",
    "        if flowerbed[i] == 0:\n",
    "            if i==0 or flowerbed[i-1]==0:\n",
    "                if i==len(flowerbed)-1 or flowerbed[i+1]==0:\n",
    "                    count+=1\n",
    "    return count>=n  \n",
    "flowerbed=[1,0,0,0,1]\n",
    "n=1\n",
    "canPlaceFlower(flowerbed,n)"
   ]
  },
  {
   "cell_type": "markdown",
   "id": "b07212ea-08c3-4653-86f5-7ccbde9f095f",
   "metadata": {},
   "source": [
    "Question 5 Given an integer array nums, find three numbers whose product is maximum and return the maximum product.\n",
    "\n",
    "Example 1: Input: nums = [1,2,3] Output: 6"
   ]
  },
  {
   "cell_type": "code",
   "execution_count": 5,
   "id": "56c1ed7b-a7a1-403c-b1bc-cc0b22a60999",
   "metadata": {},
   "outputs": [
    {
     "data": {
      "text/plain": [
       "39200"
      ]
     },
     "execution_count": 5,
     "metadata": {},
     "output_type": "execute_result"
    }
   ],
   "source": [
    "def maximumProduct( nums):\n",
    "    nums.sort()\n",
    "    max_prod=max(nums[0]*nums[1]*nums[-1],nums[-3]*nums[-2]*nums[-1])\n",
    "    return max_prod\n",
    "nums=[-100, -98, -1, 2, 3, 4]\n",
    "maximumProduct(nums)"
   ]
  },
  {
   "cell_type": "markdown",
   "id": "f7bba3c1-420b-446b-954e-b71d8ad987f4",
   "metadata": {},
   "source": [
    "Question 6 Given an array of integers nums which is sorted in ascending order, and an integer target, write a function to search target in nums. If target exists, then return its index. Otherwise, return -1.\n",
    "\n",
    "You must write an algorithm with O(log n) runtime complexity.\n",
    "\n",
    "Input: nums = [-1,0,3,5,9,12], target = 9 Output: 4"
   ]
  },
  {
   "cell_type": "code",
   "execution_count": 6,
   "id": "9b3c9b19-58ca-4333-9ef7-a22aa118967c",
   "metadata": {},
   "outputs": [
    {
     "data": {
      "text/plain": [
       "4"
      ]
     },
     "execution_count": 6,
     "metadata": {},
     "output_type": "execute_result"
    }
   ],
   "source": [
    "def search(nums, target):\n",
    "    left=0\n",
    "    right=len(nums)-1\n",
    "    while(left<=right):\n",
    "        mid=(left+right)//2\n",
    "        if nums[mid]==target:\n",
    "            return mid\n",
    "        elif nums[mid]<target:\n",
    "            left=mid+1\n",
    "        else:\n",
    "            right=mid-1\n",
    "\n",
    "    return -1 \n",
    "nums=[-1,0,3,5,9,12]\n",
    "target=9\n",
    "search(nums,target)"
   ]
  },
  {
   "cell_type": "markdown",
   "id": "525134c7-7c5d-4f89-a734-08ecea279e04",
   "metadata": {},
   "source": [
    "Question 7 An array is monotonic if it is either monotone increasing or monotone decreasing.\n",
    "\n",
    "An array nums is monotone increasing if for all i <= j, nums[i] <= nums[j]. An array nums is monotone decreasing if for all i <= j, nums[i] >= nums[j].\n",
    "\n",
    "Given an integer array nums, return true if the given array is monotonic, or false otherwise.\n",
    "\n",
    "Example 1: Input: nums = [1,2,2,3] Output: true"
   ]
  },
  {
   "cell_type": "code",
   "execution_count": 7,
   "id": "d0b608cc-d016-4d6f-9221-2c67c3395c68",
   "metadata": {},
   "outputs": [
    {
     "data": {
      "text/plain": [
       "True"
      ]
     },
     "execution_count": 7,
     "metadata": {},
     "output_type": "execute_result"
    }
   ],
   "source": [
    "def Ismonotonic(nums):\n",
    "    increase=Decrease=True\n",
    "    for i in range(len(nums)-1):\n",
    "        if nums[i]>nums[i+1]:\n",
    "            increase=False\n",
    "        if nums[i]<nums[i+1]:\n",
    "            decrease=False\n",
    "    return  increase or decrease\n",
    "nums = [1,2,2,3] \n",
    "Ismonotonic(nums)"
   ]
  },
  {
   "cell_type": "markdown",
   "id": "bcd96937-f353-40fa-881a-b187b5fae187",
   "metadata": {},
   "source": [
    "Question 8 You are given an integer array nums and an integer k.\n",
    "\n",
    "In one operation, you can choose any index i where 0 <= i < nums.length and change nums[i] to nums[i] + x where x is an integer from the range [-k, k]. You can apply this operation at most once for each index i.\n",
    "\n",
    "The score of nums is the difference between the maximum and minimum elements in nums.\n",
    "\n",
    "Return the minimum score of nums after applying the mentioned operation at most once for each index in it.\n",
    "\n",
    "Example 1: Input: nums = [1], k = 0 Output: 0\n",
    "\n",
    "Explanation: The score is max(nums) - min(nums) = 1 - 1 = 0."
   ]
  },
  {
   "cell_type": "code",
   "execution_count": 9,
   "id": "83c79725-eba2-4cf1-a6c6-4539a86e8891",
   "metadata": {},
   "outputs": [
    {
     "data": {
      "text/plain": [
       "6"
      ]
     },
     "execution_count": 9,
     "metadata": {},
     "output_type": "execute_result"
    }
   ],
   "source": [
    "def smallestRangeI(nums, k):\n",
    "        return max(0,max(nums)-min(nums)-2*k)\n",
    "\n",
    "nums=[0,10]\n",
    "k=2\n",
    "smallestRangeI(nums,k)"
   ]
  },
  {
   "cell_type": "code",
   "execution_count": null,
   "id": "fb15a654-260d-4acb-b8ae-85481f013665",
   "metadata": {},
   "outputs": [],
   "source": []
  }
 ],
 "metadata": {
  "kernelspec": {
   "display_name": "Python 3 (ipykernel)",
   "language": "python",
   "name": "python3"
  },
  "language_info": {
   "codemirror_mode": {
    "name": "ipython",
    "version": 3
   },
   "file_extension": ".py",
   "mimetype": "text/x-python",
   "name": "python",
   "nbconvert_exporter": "python",
   "pygments_lexer": "ipython3",
   "version": "3.10.8"
  }
 },
 "nbformat": 4,
 "nbformat_minor": 5
}
