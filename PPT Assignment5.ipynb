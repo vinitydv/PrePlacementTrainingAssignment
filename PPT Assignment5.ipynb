{
  "metadata": {
    "kernelspec": {
      "name": "python",
      "display_name": "Python (Pyodide)",
      "language": "python"
    },
    "language_info": {
      "codemirror_mode": {
        "name": "python",
        "version": 3
      },
      "file_extension": ".py",
      "mimetype": "text/x-python",
      "name": "python",
      "nbconvert_exporter": "python",
      "pygments_lexer": "ipython3",
      "version": "3.8"
    }
  },
  "nbformat_minor": 5,
  "nbformat": 4,
  "cells": [
    {
      "cell_type": "markdown",
      "source": "\n💡 **Question 1**\n\nConvert 1D Array Into 2D Array\n\nYou are given a **0-indexed** 1-dimensional (1D) integer array original, and two integers, m and n. You are tasked with creating a 2-dimensional (2D) array with  m rows and n columns using **all** the elements from original.\n\nThe elements from indices 0 to n - 1 (**inclusive**) of original should form the first row of the constructed 2D array, the elements from indices n to 2 * n - 1 (**inclusive**) should form the second row of the constructed 2D array, and so on.\n\nReturn *an* m x n *2D array constructed according to the above procedure, or an empty 2D array if it is impossible*.\n\n**Example 1:**\n\n**Input:** original = [1,2,3,4], m = 2, n = 2\n\n**Output:** [[1,2],[3,4]]\n\n**Explanation:** The constructed 2D array should contain 2 rows and 2 columns.\n\nThe first group of n=2 elements in original, [1,2], becomes the first row in the constructed 2D array.\n\nThe second group of n=2 elements in original, [3,4], becomes the second row in the constructed 2D array.\n\n",
      "metadata": {},
      "id": "e0463de3-b7d9-4e51-a9a5-07cbf69cc57d"
    },
    {
      "cell_type": "code",
      "source": "def convert_to_2d(original, m, n):\n    if len(original) != m * n:\n        return []\n\n    result = [[0] * n for _ in range(m)]\n    for i in range(len(original)):\n        row = i // n\n        col = i % n\n        result[row][col] = original[i]\n\n    return result\noriginal = [1, 2, 3, 4]\nm = 2\nn = 2\nresult = convert_to_2d(original, m, n)\nprint(result)\n\n",
      "metadata": {
        "trusted": true
      },
      "execution_count": 3,
      "outputs": [
        {
          "name": "stdout",
          "text": "[[1, 2], [3, 4]]\n",
          "output_type": "stream"
        }
      ],
      "id": "c06d61fd-48da-45f1-ae2c-53b5fe9f5b9a"
    },
    {
      "cell_type": "markdown",
      "source": "\n💡 **Question 2**\n\nYou have n coins and you want to build a staircase with these coins. The staircase consists of k rows where the ith row has exactly i coins. The last row of the staircase **may be** incomplete.\n\nGiven the integer n, return *the number of **complete rows** of the staircase you will build*.\n\n**Example 1:**\n**Input:** n = 5\n\n**Output:** 2\n\n**Explanation:** Because the 3rd row is incomplete, we return 2.",
      "metadata": {},
      "id": "6352430d-ba31-4d88-adb4-e220a00fe4e4"
    },
    {
      "cell_type": "code",
      "source": "def count_complete_rows(n):\n    k = 0\n    while k * (k + 1) // 2 <= n:\n        k += 1\n    return k - 1\nn = 5\nresult = count_complete_rows(n)\nprint(result)\n",
      "metadata": {
        "trusted": true
      },
      "execution_count": 4,
      "outputs": [
        {
          "name": "stdout",
          "text": "2\n",
          "output_type": "stream"
        }
      ],
      "id": "38246e32-3f30-4936-9fac-34b590bee73e"
    },
    {
      "cell_type": "markdown",
      "source": "\n💡 **Question 3**\n\nGiven an integer array nums sorted in **non-decreasing** order, return *an array of **the squares of each number** sorted in non-decreasing order*.\n\n**Example 1:**\n\n**Input:** nums = [-4,-1,0,3,10]\n\n**Output:** [0,1,9,16,100]\n\n**Explanation:** After squaring, the array becomes [16,1,0,9,100].\n\nAfter sorting, it becomes [0,1,9,16,100].\n\n",
      "metadata": {},
      "id": "53ffaef6-34e5-4efd-9820-db94b7841005"
    },
    {
      "cell_type": "code",
      "source": "def sortedSquares(nums):\n    result = []\n    for num in nums:\n        result.append(num * num)\n    result.sort()\n    return result\nnums = [-4, -1, 0, 3, 10]\nresult = sortedSquares(nums)\nprint(result)\n",
      "metadata": {
        "trusted": true
      },
      "execution_count": 5,
      "outputs": [
        {
          "name": "stdout",
          "text": "[0, 1, 9, 16, 100]\n",
          "output_type": "stream"
        }
      ],
      "id": "900923db-74c5-4b87-be41-14fb7cbb716f"
    },
    {
      "cell_type": "markdown",
      "source": "\n💡 **Question 4**\n\nGiven two **0-indexed** integer arrays nums1 and nums2, return *a list* answer *of size* 2 *where:*\n\n- answer[0] *is a list of all **distinct** integers in* nums1 *which are **not** present in* nums2*.*\n- answer[1] *is a list of all **distinct** integers in* nums2 *which are **not** present in* nums1.\n\n**Note** that the integers in the lists may be returned in **any** order.\n\n**Example 1:**\n\n**Input:** nums1 = [1,2,3], nums2 = [2,4,6]\n\n**Output:** [[1,3],[4,6]]\n\n**Explanation:**\n\nFor nums1, nums1[1] = 2 is present at index 0 of nums2, whereas nums1[0] = 1 and nums1[2] = 3 are not present in nums2. Therefore, answer[0] = [1,3].\n\nFor nums2, nums2[0] = 2 is present at index 1 of nums1, whereas nums2[1] = 4 and nums2[2] = 6 are not present in nums2. Therefore, answer[1] = [4,6].\n",
      "metadata": {},
      "id": "021fb356-c729-4df4-ae87-9026bdf67ced"
    },
    {
      "cell_type": "code",
      "source": "def findDisappearedNumbers(nums1, nums2):\n    nums2_set = set(nums2)\n    not_in_nums2 = [num for num in nums1 if num not in nums2_set]\n    not_in_nums1 = [num for num in nums2 if num not in nums1]\n    return [not_in_nums2, not_in_nums1]\nnums1 = [1, 2, 3]\nnums2 = [2, 4, 6]\nanswer = findDisappearedNumbers(nums1, nums2)\nprint(answer)\n",
      "metadata": {
        "trusted": true
      },
      "execution_count": 6,
      "outputs": [
        {
          "name": "stdout",
          "text": "[[1, 3], [4, 6]]\n",
          "output_type": "stream"
        }
      ],
      "id": "e481a972-2147-44a1-a3ab-38574f66e460"
    },
    {
      "cell_type": "markdown",
      "source": "💡 **Question 5**\n\nGiven two integer arrays arr1 and arr2, and the integer d, *return the distance value between the two arrays*.\n\nThe distance value is defined as the number of elements arr1[i] such that there is not any element arr2[j] where |arr1[i]-arr2[j]| <= d.\n\n**Example 1:**\n\n**Input:** arr1 = [4,5,8], arr2 = [10,9,1,8], d = 2\n\n**Output:** 2\n\n**Explanation:**\n\nFor arr1[0]=4 we have:\n\n|4-10|=6 > d=2\n\n|4-9|=5 > d=2\n\n|4-1|=3 > d=2\n\n|4-8|=4 > d=2\n\nFor arr1[1]=5 we have:\n\n|5-10|=5 > d=2\n\n|5-9|=4 > d=2\n\n|5-1|=4 > d=2\n\n|5-8|=3 > d=2\n\nFor arr1[2]=8 we have:\n\n**|8-10|=2 <= d=2**\n\n**|8-9|=1 <= d=2**\n\n|8-1|=7 > d=2\n\n**|8-8|=0 <= d=2**\n",
      "metadata": {},
      "id": "92de8664-b65f-4f82-9358-5cc0ccf57e6c"
    },
    {
      "cell_type": "code",
      "source": "def findTheDistanceValue(arr1, arr2, d):\n    distance = 0\n    for num1 in arr1:\n        found = False\n        for num2 in arr2:\n            if abs(num1 - num2) <= d:\n                found = True\n                break\n        if not found:\n            distance += 1\n    return distance\narr1 = [4, 5, 8]\narr2 = [10, 9, 1, 8]\nd = 2\ndistance = findTheDistanceValue(arr1, arr2, d)\nprint(distance)\n",
      "metadata": {
        "trusted": true
      },
      "execution_count": 7,
      "outputs": [
        {
          "name": "stdout",
          "text": "2\n",
          "output_type": "stream"
        }
      ],
      "id": "bfc2c83f-65dc-4e2a-83f1-4eb719724583"
    },
    {
      "cell_type": "markdown",
      "source": "💡 **Question 6**\n\nGiven an integer array nums of length n where all the integers of nums are in the range [1, n] and each integer appears **once** or **twice**, return *an array of all the integers that appears **twice***.\n\nYou must write an algorithm that runs in O(n) time and uses only constant extra space.\n\n**Example 1:**\n\n**Input:** nums = [4,3,2,7,8,2,3,1]\n\n**Output:**\n\n[2,3]\n",
      "metadata": {},
      "id": "1efc2642-8ef4-4151-9a88-04edbd238234"
    },
    {
      "cell_type": "code",
      "source": "def findDuplicates(nums):\n    result = []\n    for num in nums:\n        index = abs(num) - 1\n        if nums[index] < 0:\n            result.append(abs(num))\n        else:\n            nums[index] *= -1\n    return result\nnums = [4, 3, 2, 7, 8, 2, 3, 1]\nresult = findDuplicates(nums)\nprint(result)\n",
      "metadata": {
        "trusted": true
      },
      "execution_count": 8,
      "outputs": [
        {
          "name": "stdout",
          "text": "[2, 3]\n",
          "output_type": "stream"
        }
      ],
      "id": "c4eea568-5e96-4b4c-810c-ae6901cefe58"
    },
    {
      "cell_type": "markdown",
      "source": "💡 **Question 7**\n\nSuppose an array of length n sorted in ascending order is **rotated** between 1 and n times. For example, the array nums = [0,1,2,4,5,6,7] might become:\n\n- [4,5,6,7,0,1,2] if it was rotated 4 times.\n- [0,1,2,4,5,6,7] if it was rotated 7 times.\n\nNotice that **rotating** an array [a[0], a[1], a[2], ..., a[n-1]] 1 time results in the array [a[n-1], a[0], a[1], a[2], ..., a[n-2]].\n\nGiven the sorted rotated array nums of **unique** elements, return *the minimum element of this array*.\n\nYou must write an algorithm that runs in O(log n) time.\n\n**Example 1:**\n\n**Input:** nums = [3,4,5,1,2]\n\n**Output:** 1\n\n**Explanation:**\n\nThe original array was [1,2,3,4,5] rotated 3 times.\n",
      "metadata": {},
      "id": "9fb9d503-dfae-4587-939d-5fbbf504a510"
    },
    {
      "cell_type": "code",
      "source": "def findMin(nums):\n    left, right = 0, len(nums) - 1\n    while left < right:\n        mid = (left + right) // 2\n        if nums[mid] < nums[right]:\n            right = mid\n        else:\n            left = mid + 1\n    return nums[left]\nnums = [3, 4, 5, 1, 2]\nmin_element = findMin(nums)\nprint(min_element)\n",
      "metadata": {
        "trusted": true
      },
      "execution_count": 9,
      "outputs": [
        {
          "name": "stdout",
          "text": "1\n",
          "output_type": "stream"
        }
      ],
      "id": "6c52df25-3705-41e8-b366-cf902042b4ce"
    },
    {
      "cell_type": "markdown",
      "source": "💡 **Question 8**\n\nAn integer array original is transformed into a **doubled** array changed by appending **twice the value** of every element in original, and then randomly **shuffling** the resulting array.\n\nGiven an array changed, return original *if* changed *is a **doubled** array. If* changed *is not a **doubled** array, return an empty array. The elements in* original *may be returned in **any** order*.\n\n**Example 1:**\n\n**Input:** changed = [1,3,4,2,6,8]\n\n**Output:** [1,3,4]\n\n**Explanation:** One possible original array could be [1,3,4]:\n\n- Twice the value of 1 is 1 * 2 = 2.\n- Twice the value of 3 is 3 * 2 = 6.\n- Twice the value of 4 is 4 * 2 = 8.\n\nOther original arrays could be [4,3,1] or [3,1,4].\n",
      "metadata": {},
      "id": "50e61843-18fb-4ee8-aab5-0884554e94bd"
    },
    {
      "cell_type": "code",
      "source": "",
      "metadata": {},
      "execution_count": null,
      "outputs": [],
      "id": "97edf392-5349-44d0-8cb2-9bda704ca237"
    },
    {
      "cell_type": "code",
      "source": "",
      "metadata": {},
      "execution_count": null,
      "outputs": [],
      "id": "e92dcb45-3608-4b46-a729-05b3f6eedf49"
    }
  ]
}