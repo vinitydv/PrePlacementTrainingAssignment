{
  "metadata": {
    "kernelspec": {
      "name": "python",
      "display_name": "Python (Pyodide)",
      "language": "python"
    },
    "language_info": {
      "codemirror_mode": {
        "name": "python",
        "version": 3
      },
      "file_extension": ".py",
      "mimetype": "text/x-python",
      "name": "python",
      "nbconvert_exporter": "python",
      "pygments_lexer": "ipython3",
      "version": "3.8"
    }
  },
  "nbformat_minor": 5,
  "nbformat": 4,
  "cells": [
    {
      "cell_type": "markdown",
      "source": " **Question 1**\n\nA permutation perm of n + 1 integers of all the integers in the range [0, n] can be represented as a string s of length n where:\n\n- s[i] == 'I' if perm[i] < perm[i + 1], and\n- s[i] == 'D' if perm[i] > perm[i + 1].\n\nGiven a string s, reconstruct the permutation perm and return it. If there are multiple valid permutations perm, return **any of them**.\n\n**Example 1:**\n\n**Input:** s = \"IDID\"\n\n**Output:**\n\n[0,4,1,3,2]\n",
      "metadata": {},
      "id": "beebeda6-1dbf-45cc-a465-deea7c8a9904"
    },
    {
      "cell_type": "code",
      "source": "def reconstruct_permutation(s):\n    perm = []\n    n = len(s)\n    low, high = 0, n\n\n    for c in s:\n        if c == 'I':\n            perm.append(low)\n            low += 1\n        elif c == 'D':\n            perm.append(high)\n            high -= 1\n\n    perm.append(low)\n    return perm\ns = \"IDID\"\nresult = reconstruct_permutation(s)\nprint(result)\n",
      "metadata": {
        "trusted": true
      },
      "execution_count": 1,
      "outputs": [
        {
          "name": "stdout",
          "text": "[0, 4, 1, 3, 2]\n",
          "output_type": "stream"
        }
      ],
      "id": "70f27cbc-440c-4460-9dfd-c55946a9ef32"
    },
    {
      "cell_type": "markdown",
      "source": "\n💡 **Question 2**\n\nYou are given an m x n integer matrix matrix with the following two properties:\n\n- Each row is sorted in non-decreasing order.\n- The first integer of each row is greater than the last integer of the previous row.\n\nGiven an integer target, return true *if* target *is in* matrix *or* false *otherwise*.\n\nYou must write a solution in O(log(m * n)) time complexity.\n\n**Example 1:**\n**nput:** matrix = [[1,3,5,7],[10,11,16,20],[23,30,34,60]], target = 3\n\n**Output:** true",
      "metadata": {},
      "id": "3c65ea40-3a6e-420c-b226-bb345fd5ebeb"
    },
    {
      "cell_type": "code",
      "source": "def searchMatrix(matrix, target):\n    m = len(matrix)\n    n = len(matrix[0])\n\n    left = 0\n    right = m * n - 1\n\n    while left <= right:\n        mid = (left + right) // 2\n        row = mid // n\n        col = mid % n\n\n        if matrix[row][col] == target:\n            return True\n        elif matrix[row][col] < target:\n            left = mid + 1\n        else:\n            right = mid - 1\n\n    return False\nmatrix = [[1, 3, 5, 7], [10, 11, 16, 20], [23, 30, 34, 60]]\ntarget = 3\n\nresult = searchMatrix(matrix, target)\nprint(result)\n",
      "metadata": {
        "trusted": true
      },
      "execution_count": 2,
      "outputs": [
        {
          "name": "stdout",
          "text": "True\n",
          "output_type": "stream"
        }
      ],
      "id": "a373bb50-ccc5-44bd-812d-8f59c64385aa"
    },
    {
      "cell_type": "markdown",
      "source": "\n💡 **Question 3**\n\nGiven an array of integers arr, return *true if and only if it is a valid mountain array*.\n\nRecall that arr is a mountain array if and only if:\n\n- arr.length >= 3\n- There exists some i with 0 < i < arr.length - 1 such that:\n    - arr[0] < arr[1] < ... < arr[i - 1] < arr[i]\n    - arr[i] > arr[i + 1] > ... > arr[arr.length - 1]\n**Example 1:**\n\n**Input:** arr = [2,1]\n\n**Output:**\n\nfalse",
      "metadata": {},
      "id": "176e0e8b-f341-4cce-ad40-966c68708c7d"
    },
    {
      "cell_type": "code",
      "source": "def validMountainArray(arr):\n    n = len(arr)\n\n    if n < 3:\n        return False\n\n    left = 0\n    right = n - 1\n\n    while left < n - 1 and arr[left] < arr[left + 1]:\n        left += 1\n\n    while right > 0 and arr[right] < arr[right - 1]:\n        right -= 1\n\n    return left == right and left != 0 and right != n - 1\narr = [2, 1]\nresult = validMountainArray(arr)\nprint(result)\n",
      "metadata": {
        "trusted": true
      },
      "execution_count": 3,
      "outputs": [
        {
          "name": "stdout",
          "text": "False\n",
          "output_type": "stream"
        }
      ],
      "id": "ae01e7e9-958c-446f-8471-aad89dc5fdee"
    },
    {
      "cell_type": "markdown",
      "source": "\n💡 **Question 4**\n\nGiven a binary array nums, return *the maximum length of a contiguous subarray with an equal number of* 0 *and* 1.\n\n**Example 1:**\n\n**Input:** nums = [0,1]\n\n**Output:** 2\n\n**Explanation:**\n\n[0, 1] is the longest contiguous subarray with an equal number of 0 and 1.\n\n",
      "metadata": {},
      "id": "9fb875c8-1716-466c-8524-eae84a94d6af"
    },
    {
      "cell_type": "code",
      "source": "def findMaxLength(nums):\n    max_length = 0\n    count = 0\n    sum_indices = {0: -1}\n\n    for i, num in enumerate(nums):\n        count += 1 if num == 1 else -1\n\n        if count in sum_indices:\n            max_length = max(max_length, i - sum_indices[count])\n        else:\n            sum_indices[count] = i\n\n    return max_length\nnums = [0, 1]\nresult = findMaxLength(nums)\nprint(result)\n",
      "metadata": {
        "trusted": true
      },
      "execution_count": 4,
      "outputs": [
        {
          "name": "stdout",
          "text": "2\n",
          "output_type": "stream"
        }
      ],
      "id": "9983156d-af94-4873-b1c6-527b3fdf161b"
    },
    {
      "cell_type": "markdown",
      "source": "\n💡 **Question 5**\n\nThe **product sum** of two equal-length arrays a and b is equal to the sum of a[i] * b[i] for all 0 <= i < a.length (**0-indexed**).\n\n- For example, if a = [1,2,3,4] and b = [5,2,3,1], the **product sum** would be 1*5 + 2*2 + 3*3 + 4*1 = 22.\n\nGiven two arrays nums1 and nums2 of length n, return *the **minimum product sum** if you are allowed to **rearrange** the **order** of the elements in* nums1.\n\n**Example 1:**\n\n**Input:** nums1 = [5,3,4,2], nums2 = [4,2,2,5]\n\n**Output:** 40\n\n**Explanation:**\n\nWe can rearrange nums1 to become [3,5,4,2]. The product sum of [3,5,4,2] and [4,2,2,5] is 3*4 + 5*2 + 4*2 + 2*5 = 40.\n",
      "metadata": {},
      "id": "c24fd7e8-62c7-4233-92d1-f32b5562ab45"
    },
    {
      "cell_type": "code",
      "source": "def minProductSum(nums1, nums2):\n    nums1.sort()\n    nums2.sort(reverse=True)\n\n    min_product_sum = 0\n    for num1, num2 in zip(nums1, nums2):\n        min_product_sum += num1 * num2\n\n    return min_product_sum\nnums1 = [5, 3, 4, 2]\nnums2 = [4, 2, 2, 5]\nresult = minProductSum(nums1, nums2)\nprint(result)\n",
      "metadata": {
        "trusted": true
      },
      "execution_count": 6,
      "outputs": [
        {
          "name": "stdout",
          "text": "40\n",
          "output_type": "stream"
        }
      ],
      "id": "aa3d9a10-2ff1-434f-b3c4-6f0a51c7c479"
    },
    {
      "cell_type": "markdown",
      "source": "\n💡 **Question 6**\n\nAn integer array original is transformed into a **doubled** array changed by appending **twice the value** of every element in original, and then randomly **shuffling** the resulting array.\n\nGiven an array changed, return original *if* changed *is a **doubled** array. If* changed *is not a **doubled** array, return an empty array. The elements in* original *may be returned in **any** order*.\n\n**Example 1:**\n\n**Input:** changed = [1,3,4,2,6,8]\n\n**Output:** [1,3,4]\n\n**Explanation:** One possible original array could be [1,3,4]:\n\n- Twice the value of 1 is 1 * 2 = 2.\n- Twice the value of 3 is 3 * 2 = 6.\n- Twice the value of 4 is 4 * 2 = 8.\n\nOther original arrays could be [4,3,1] or [3,1,4].\n\n",
      "metadata": {},
      "id": "bc2c61d3-b305-434a-b564-14f223873c8e"
    },
    {
      "cell_type": "code",
      "source": "from collections import Counter\ndef findOriginalArray(changed):\n        counter =Counter(changed)\n        res = []\n        for k in counter.keys():\n            \n            if k == 0:\n                # handle zero as special case\n                if counter[k] % 2 > 0:\n                    return []\n                res += [0] * (counter[k] // 2)\n                \n            elif counter[k] > 0:\n                x = k\n                \n                # walk down the chain\n                while x % 2 == 0 and x // 2 in counter:\n                    x = x // 2\n                    \n                # walk up and process all numbers within the chain. mark the counts as 0\n                while x in counter:\n                    if counter[x] > 0:\n                        res += [x] * counter[x]\n                        if counter[x+x] < counter[x]:\n                            return []\n                        counter[x+x] -= counter[x]\n                        counter[x] = 0\n                    x += x\n        return res\n    \nchanged = [1,3,4,2,6,8]\nfindOriginalArray(changed)",
      "metadata": {
        "trusted": true
      },
      "execution_count": 9,
      "outputs": [
        {
          "execution_count": 9,
          "output_type": "execute_result",
          "data": {
            "text/plain": "[1, 4, 3]"
          },
          "metadata": {}
        }
      ],
      "id": "a344e27c-6324-4951-ab9d-a0f2d2191870"
    },
    {
      "cell_type": "markdown",
      "source": "\n💡 **Question 7**\n\nGiven a positive integer n, generate an n x n matrix filled with elements from 1 to n2 in spiral order.\n\n**Example 1:**\n**Input:** n = 3\n\n**Output:** [[1,2,3],[8,9,4],[7,6,5]]",
      "metadata": {},
      "id": "c41f90f4-c9fd-4524-a1fd-f171930f3f98"
    },
    {
      "cell_type": "code",
      "source": "def generateMatrix(n):\n    result = [[0 for _ in range(n)] for _ in range(n)]\n\n    top, bottom, left, right = 0, n - 1, 0, n - 1\n    num = 1\n\n    while num <= n * n:\n        for i in range(left, right + 1):\n            result[top][i] = num\n            num += 1\n        top += 1\n\n        for i in range(top, bottom + 1):\n            result[i][right] = num\n            num += 1\n        right -= 1\n\n        for i in range(right, left - 1, -1):\n            result[bottom][i] = num\n            num += 1\n        bottom -= 1\n\n        for i in range(bottom, top - 1, -1):\n            result[i][left] = num\n            num += 1\n        left += 1\n\n    return result\nn = 3\nresult = generateMatrix(n)\nprint(result)\n",
      "metadata": {
        "trusted": true
      },
      "execution_count": 10,
      "outputs": [
        {
          "name": "stdout",
          "text": "[[1, 2, 3], [8, 9, 4], [7, 6, 5]]\n",
          "output_type": "stream"
        }
      ],
      "id": "c29509a9-c628-40d0-a8ae-ea0cb0fc1701"
    },
    {
      "cell_type": "markdown",
      "source": "\n💡 **Question 8**\n\nGiven two [sparse matrices] mat1 of size m x k and mat2 of size k x n, return the result of mat1 x mat2. You may assume that multiplication is always possible.\n\n**Example 1:**\n**Input:** mat1 = [[1,0,0],[-1,0,3]], mat2 = [[7,0,0],[0,0,0],[0,0,1]]\n\n**Output:**\n\n[[7,0,0],[-7,0,3]]",
      "metadata": {},
      "id": "ce13f9d9-011a-4eb2-b17f-ba869db629a2"
    },
    {
      "cell_type": "code",
      "source": "def multiply(mat1, mat2):\n    m, k, n = len(mat1), len(mat1[0]), len(mat2[0])\n    result = [[0] * n for _ in range(m)]\n\n    for i in range(m):\n        for j in range(n):\n            if mat1[i][j] != 0:\n                for r in range(k):\n                    result[i][j] += mat1[i][r] * mat2[r][j]\n\n    return result\nmat1 = [[1, 0, 0], [-1, 0, 3]]\nmat2 = [[7, 0, 0], [0, 0, 0], [0, 0, 1]]\nresult = multiply(mat1, mat2)\nprint(result)\n",
      "metadata": {
        "trusted": true
      },
      "execution_count": 11,
      "outputs": [
        {
          "name": "stdout",
          "text": "[[7, 0, 0], [-7, 0, 3]]\n",
          "output_type": "stream"
        }
      ],
      "id": "7045b6f6-3686-4b5c-b6ae-4fad594cc5a1"
    },
    {
      "cell_type": "code",
      "source": "",
      "metadata": {},
      "execution_count": null,
      "outputs": [],
      "id": "79517064-94f2-4afe-8ca5-980ed9eedc6b"
    }
  ]
}