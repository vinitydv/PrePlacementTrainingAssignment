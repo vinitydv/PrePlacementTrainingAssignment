{
  "metadata": {
    "kernelspec": {
      "name": "python",
      "display_name": "Python (Pyodide)",
      "language": "python"
    },
    "language_info": {
      "codemirror_mode": {
        "name": "python",
        "version": 3
      },
      "file_extension": ".py",
      "mimetype": "text/x-python",
      "name": "python",
      "nbconvert_exporter": "python",
      "pygments_lexer": "ipython3",
      "version": "3.8"
    }
  },
  "nbformat_minor": 5,
  "nbformat": 4,
  "cells": [
    {
      "cell_type": "markdown",
      "source": "<aside>\n💡 **Question 1**\n\nGiven two strings s and t, *determine if they are isomorphic*.\n\nTwo strings s and t are isomorphic if the characters in s can be replaced to get t.\n\nAll occurrences of a character must be replaced with another character while preserving the order of characters. No two characters may map to the same character, but a character may map to itself.\n\n**Example 1:**\n\n**Input:** s = \"egg\", t = \"add\"\n\n**Output:** true\n\n</aside>",
      "metadata": {},
      "id": "d9e8dcfd-485b-4c5b-ab44-fede8ab89627"
    },
    {
      "cell_type": "code",
      "source": "def isomorphic_strings(s, t):\n    if len(s) != len(t):\n        return False\n\n    s_map = {}\n    t_map = {}\n\n    for char_s, char_t in zip(s, t):\n        if char_s not in s_map:\n            s_map[char_s] = char_t\n        elif s_map[char_s] != char_t:\n            return False\n\n        if char_t not in t_map:\n            t_map[char_t] = char_s\n        elif t_map[char_t] != char_s:\n            return False\n\n    return True\ns = \"egg\"\nt = \"add\"\nprint(isomorphic_strings(s, t))\n",
      "metadata": {
        "trusted": true
      },
      "execution_count": 1,
      "outputs": [
        {
          "name": "stdout",
          "text": "True\n",
          "output_type": "stream"
        }
      ],
      "id": "275a8c0c-8bac-47ec-b743-c7e80822d9a6"
    },
    {
      "cell_type": "markdown",
      "source": "<aside>\n💡 **Question 2**\n\nGiven a string num which represents an integer, return true *if* num *is a **strobogrammatic number***.\n\nA **strobogrammatic number** is a number that looks the same when rotated 180 degrees (looked at upside down).\n\n**Example 1:**\n\n**Input:** num = \"69\"\n\n**Output:**\n\ntrue\n\n</aside>",
      "metadata": {},
      "id": "d2e3f1b6-836c-4320-a903-f012a8154d93"
    },
    {
      "cell_type": "code",
      "source": "def is_strobogrammatic(num):\n    strobogrammatic_map = {\n        \"0\": \"0\",\n        \"1\": \"1\",\n        \"6\": \"9\",\n        \"8\": \"8\",\n        \"9\": \"6\"\n    }\n\n    left, right = 0, len(num) - 1\n\n    while left <= right:\n        if num[left] not in strobogrammatic_map or num[right] not in strobogrammatic_map:\n            return False\n\n        if strobogrammatic_map[num[left]] != num[right]:\n            return False\n\n        left += 1\n        right -= 1\n\n    return True\nnum = \"69\"\nprint(is_strobogrammatic(num))\n",
      "metadata": {
        "trusted": true
      },
      "execution_count": 2,
      "outputs": [
        {
          "name": "stdout",
          "text": "True\n",
          "output_type": "stream"
        }
      ],
      "id": "cade3009-f5e8-43c5-a86d-b539420da48c"
    },
    {
      "cell_type": "markdown",
      "source": "<aside>\n💡 **Question 3**\n\nGiven two non-negative integers, num1 and num2 represented as string, return *the sum of* num1 *and* num2 *as a string*.\n\nYou must solve the problem without using any built-in library for handling large integers (such as BigInteger). You must also not convert the inputs to integers directly.\n\n**Example 1:**\n\n**Input:** num1 = \"11\", num2 = \"123\"\n\n**Output:**\n\n\"134\"\n\n</aside>",
      "metadata": {},
      "id": "c104a7d8-7216-4df5-b5f3-dfc18852140c"
    },
    {
      "cell_type": "code",
      "source": "def add_strings(num1, num2):\n    i, j = len(num1) - 1, len(num2) - 1\n    carry = 0\n    result = \"\"\n\n    while i >= 0 or j >= 0 or carry:\n        digit1 = int(num1[i]) if i >= 0 else 0\n        digit2 = int(num2[j]) if j >= 0 else 0\n\n        total = digit1 + digit2 + carry\n        carry = total // 10\n        result = str(total % 10) + result\n\n        i -= 1\n        j -= 1\n\n    return result\nnum1 = \"11\"\nnum2 = \"123\"\nprint(add_strings(num1, num2))\n",
      "metadata": {
        "trusted": true
      },
      "execution_count": 3,
      "outputs": [
        {
          "name": "stdout",
          "text": "134\n",
          "output_type": "stream"
        }
      ],
      "id": "b66c514f-8f08-490a-bd46-c1d36f591dcd"
    },
    {
      "cell_type": "markdown",
      "source": "<aside>\n💡 **Question 4**\n\nGiven a string s, reverse the order of characters in each word within a sentence while still preserving whitespace and initial word order.\n\n**Example 1:**\n\n**Input:** s = \"Let's take LeetCode contest\"\n\n**Output:** \"s'teL ekat edoCteeL tsetnoc\"\n\n</aside>",
      "metadata": {},
      "id": "cd7abdc9-b024-4da9-b788-31ce787c694e"
    },
    {
      "cell_type": "code",
      "source": "def reverse_words(s):\n    words = s.split()\n    reversed_words = [word[::-1] for word in words]\n    reversed_sentence = \" \".join(reversed_words)\n    return reversed_sentence\ns = \"Let's take LeetCode contest\"\nprint(reverse_words(s))\n",
      "metadata": {
        "trusted": true
      },
      "execution_count": 4,
      "outputs": [
        {
          "name": "stdout",
          "text": "s'teL ekat edoCteeL tsetnoc\n",
          "output_type": "stream"
        }
      ],
      "id": "3957b10a-f888-4dc6-8583-9e37c5dabcd9"
    },
    {
      "cell_type": "markdown",
      "source": "<aside>\n💡 **Question 5**\n\nGiven a string s and an integer k, reverse the first k characters for every 2k characters counting from the start of the string.\n\nIf there are fewer than k characters left, reverse all of them. If there are less than 2k but greater than or equal to k characters, then reverse the first k characters and leave the other as original.\n\n**Example 1:**\n\n**Input:** s = \"abcdefg\", k = 2\n\n**Output:**\n\n\"bacdfeg\n\n</aside>",
      "metadata": {},
      "id": "752ba610-78c7-4780-a5df-422c760c8ce1"
    },
    {
      "cell_type": "code",
      "source": "def reverse_string(s, k):\n    s = list(s)\n    for i in range(0, len(s), 2 * k):\n        start = i\n        end = min(i + k - 1, len(s) - 1)\n        while start < end:\n            s[start], s[end] = s[end], s[start]\n            start += 1\n            end -= 1\n    return ''.join(s)\ns = \"abcdefg\"\nk = 2\nprint(reverse_string(s, k))\n",
      "metadata": {
        "trusted": true
      },
      "execution_count": 5,
      "outputs": [
        {
          "name": "stdout",
          "text": "bacdfeg\n",
          "output_type": "stream"
        }
      ],
      "id": "5908a5f6-e45b-494d-b6a4-b2fe3392f06b"
    },
    {
      "cell_type": "markdown",
      "source": "<aside>\n💡 **Question 6**\n\nGiven two strings s and goal, return true *if and only if* s *can become* goal *after some number of **shifts** on* s.\n\nA **shift** on s consists of moving the leftmost character of s to the rightmost position.\n\n- For example, if s = \"abcde\", then it will be \"bcdea\" after one shift.\n\n**Example 1:**\n\n**Input:** s = \"abcde\", goal = \"cdeab\"\n\n**Output:**\n\ntrue\n\n</aside>",
      "metadata": {},
      "id": "71a5c4c3-9f74-4788-8a1b-bd6941e256dc"
    },
    {
      "cell_type": "code",
      "source": "def rotate_string(s, goal):\n    concatenated_s = s + s\n    return goal in concatenated_s\ns = \"abcde\"\ngoal = \"cdeab\"\nprint(rotate_string(s, goal))\n",
      "metadata": {
        "trusted": true
      },
      "execution_count": 6,
      "outputs": [
        {
          "name": "stdout",
          "text": "True\n",
          "output_type": "stream"
        }
      ],
      "id": "17023613-ad0e-48be-a7c5-65e35c8b5582"
    },
    {
      "cell_type": "markdown",
      "source": "<aside>\n💡 **Question 7**\n\nGiven two strings s and t, return true *if they are equal when both are typed into empty text editors*. '#' means a backspace character.\n\nNote that after backspacing an empty text, the text will continue empty.\n\n**Example 1:**\n\n**Input:** s = \"ab#c\", t = \"ad#c\"\n\n**Output:** true\n\n**Explanation:**\n\nBoth s and t become \"ac\".\n\n</aside>",
      "metadata": {},
      "id": "6fff2f51-5a9f-4c56-b8c1-9c44a6049051"
    },
    {
      "cell_type": "code",
      "source": "def backspace_compare(s, t):\n    stack_s = []\n    stack_t = []\n\n    for ch in s:\n        if ch != '#':\n            stack_s.append(ch)\n        elif stack_s:\n            stack_s.pop()\n\n    for ch in t:\n        if ch != '#':\n            stack_t.append(ch)\n        elif stack_t:\n            stack_t.pop()\n\n    return stack_s == stack_t\ns = \"ab#c\"\nt = \"ad#c\"\nprint(backspace_compare(s, t))\n",
      "metadata": {
        "trusted": true
      },
      "execution_count": 7,
      "outputs": [
        {
          "name": "stdout",
          "text": "True\n",
          "output_type": "stream"
        }
      ],
      "id": "609a7667-0e89-4634-9345-3a006db36079"
    },
    {
      "cell_type": "markdown",
      "source": "💡 **Question 8**\nYou are given an array coordinates, coordinates[i] = [x, y], where [x, y] represents the coordinate of a point. Check if these points make a straight line in the XY plane.\n\nExample 1:\n\nInput: coordinates = [[1,2],[2,3],[3,4],[4,5],[5,6],[6,7]]\n\nOutput: true",
      "metadata": {},
      "id": "c7201e04-11b5-4e9b-b745-5cb937399846"
    },
    {
      "cell_type": "code",
      "source": "def check_straight_line(coordinates):\n    x1, y1 = coordinates[0]\n    x2, y2 = coordinates[1]\n    initial_slope = (y2 - y1) / (x2 - x1)\n\n    for i in range(2, len(coordinates)):\n        x, y = coordinates[i]\n        slope = (y - y1) / (x - x1)\n        if slope != initial_slope:\n            return False\n\n    return True\ncoordinates = [[1, 2], [2, 3], [3, 4], [4, 5], [5, 6], [6, 7]]\nprint(check_straight_line(coordinates))\n",
      "metadata": {
        "trusted": true
      },
      "execution_count": 8,
      "outputs": [
        {
          "name": "stdout",
          "text": "True\n",
          "output_type": "stream"
        }
      ],
      "id": "a17b9879-2da0-4334-9e34-2b0b607ec1f3"
    },
    {
      "cell_type": "code",
      "source": "",
      "metadata": {},
      "execution_count": null,
      "outputs": [],
      "id": "d8c25af7-d218-4c85-ae33-30de746e3adc"
    }
  ]
}